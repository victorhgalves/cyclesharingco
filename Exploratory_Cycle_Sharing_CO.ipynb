{
  "nbformat": 4,
  "nbformat_minor": 0,
  "metadata": {
    "colab": {
      "name": "Exploratory  Cycle Sharing CO",
      "provenance": [],
      "collapsed_sections": [
        "rYBa8voR6oQ-",
        "YgzOMf1g6lrh",
        "70RUq0J96v2f",
        "MvJDqkjw8GhW"
      ],
      "toc_visible": true,
      "include_colab_link": true
    },
    "kernelspec": {
      "name": "python3",
      "display_name": "Python 3"
    },
    "accelerator": "GPU"
  },
  "cells": [
    {
      "cell_type": "markdown",
      "metadata": {
        "id": "view-in-github",
        "colab_type": "text"
      },
      "source": [
        "<a href=\"https://colab.research.google.com/github/victorhgalves/cyclesharingco/blob/main/Exploratory_Cycle_Sharing_CO.ipynb\" target=\"_parent\"><img src=\"https://colab.research.google.com/assets/colab-badge.svg\" alt=\"Open In Colab\"/></a>"
      ]
    },
    {
      "cell_type": "markdown",
      "metadata": {
        "id": "rYBa8voR6oQ-"
      },
      "source": [
        "#Import Libs"
      ]
    },
    {
      "cell_type": "code",
      "metadata": {
        "id": "WJDek7d43BAx"
      },
      "source": [
        "import pandas as pd\n",
        "import numpy as np\n",
        "import seaborn as sns\n",
        "import csv\n",
        "import matplotlib.pyplot as plt\n",
        "import folium\n",
        "import datetime\n",
        "import warnings\n",
        "\n",
        "from sklearn.preprocessing import LabelEncoder\n",
        "\n",
        "sns.set_theme(style=\"darkgrid\")\n",
        "warnings.filterwarnings(\"ignore\")"
      ],
      "execution_count": null,
      "outputs": []
    },
    {
      "cell_type": "markdown",
      "metadata": {
        "id": "YgzOMf1g6lrh"
      },
      "source": [
        "#Import Data"
      ]
    },
    {
      "cell_type": "code",
      "metadata": {
        "id": "-xFTeeu43D_3",
        "outputId": "189ec87a-166b-469a-8280-e08fd264e3e5",
        "colab": {
          "base_uri": "https://localhost:8080/"
        }
      },
      "source": [
        "df_station = pd.read_csv('input/station.csv', error_bad_lines=False)\n",
        "df_trip = pd.read_csv('input/trip.csv', error_bad_lines=False)\n",
        "df_weather = pd.read_csv('input/weather.csv', error_bad_lines=False)"
      ],
      "execution_count": null,
      "outputs": [
        {
          "output_type": "stream",
          "text": [
            "b'Skipping line 50794: expected 12 fields, saw 20\\n'\n"
          ],
          "name": "stderr"
        }
      ]
    },
    {
      "cell_type": "markdown",
      "metadata": {
        "id": "70RUq0J96v2f"
      },
      "source": [
        "#Pre Processing"
      ]
    },
    {
      "cell_type": "code",
      "metadata": {
        "id": "6ESgOxwKJjEc",
        "outputId": "e064417d-5075-4161-c881-908bb693447c",
        "colab": {
          "base_uri": "https://localhost:8080/"
        }
      },
      "source": [
        "df_trip.shape"
      ],
      "execution_count": null,
      "outputs": [
        {
          "output_type": "execute_result",
          "data": {
            "text/plain": [
              "(286857, 12)"
            ]
          },
          "metadata": {
            "tags": []
          },
          "execution_count": 6
        }
      ]
    },
    {
      "cell_type": "code",
      "metadata": {
        "id": "fbkK4KN7Jmg-",
        "outputId": "6bc17905-da4e-440c-c60a-c6a704a77b2e",
        "colab": {
          "base_uri": "https://localhost:8080/"
        }
      },
      "source": [
        "df_station.shape"
      ],
      "execution_count": null,
      "outputs": [
        {
          "output_type": "execute_result",
          "data": {
            "text/plain": [
              "(58, 9)"
            ]
          },
          "metadata": {
            "tags": []
          },
          "execution_count": 7
        }
      ]
    },
    {
      "cell_type": "code",
      "metadata": {
        "id": "VS1qOokAJo4m",
        "outputId": "f4e8b7fa-a221-4a09-c04e-08df2223fa15",
        "colab": {
          "base_uri": "https://localhost:8080/"
        }
      },
      "source": [
        "df_weather.shape"
      ],
      "execution_count": null,
      "outputs": [
        {
          "output_type": "execute_result",
          "data": {
            "text/plain": [
              "(689, 21)"
            ]
          },
          "metadata": {
            "tags": []
          },
          "execution_count": 8
        }
      ]
    },
    {
      "cell_type": "code",
      "metadata": {
        "id": "dqAOBxbE9HB8",
        "outputId": "06d9e775-3582-46cd-910f-a4487887fa8f",
        "colab": {
          "base_uri": "https://localhost:8080/"
        }
      },
      "source": [
        "df_trip.dtypes"
      ],
      "execution_count": null,
      "outputs": [
        {
          "output_type": "execute_result",
          "data": {
            "text/plain": [
              "trip_id                int64\n",
              "starttime             object\n",
              "stoptime              object\n",
              "bikeid                object\n",
              "tripduration         float64\n",
              "from_station_name     object\n",
              "to_station_name       object\n",
              "from_station_id       object\n",
              "to_station_id         object\n",
              "usertype              object\n",
              "gender                object\n",
              "birthyear            float64\n",
              "dtype: object"
            ]
          },
          "metadata": {
            "tags": []
          },
          "execution_count": 9
        }
      ]
    },
    {
      "cell_type": "code",
      "metadata": {
        "id": "TIVJ732xEYEu"
      },
      "source": [
        "dict_type_trip = {\n",
        "    'trip_id' : 'str',\n",
        "    'starttime' : 'datetime64',\n",
        "    'stoptime' : 'datetime64',\n",
        "    'bikeid' : 'str',\n",
        "    'tripduration' : np.float64,\n",
        "    'from_station_name' : 'str',\n",
        "    'to_station_name' : 'str',\n",
        "    'from_station_id' : 'str',\n",
        "    'to_station_id' : 'str',\n",
        "    'usertype' : 'str',\n",
        "    'gender' : 'str',\n",
        "    }"
      ],
      "execution_count": null,
      "outputs": []
    },
    {
      "cell_type": "code",
      "metadata": {
        "id": "CqH5uvZ_G6K4"
      },
      "source": [
        "df_trip = df_trip.astype(dict_type_trip)"
      ],
      "execution_count": null,
      "outputs": []
    },
    {
      "cell_type": "code",
      "metadata": {
        "id": "9MWp6TdKIS-7",
        "outputId": "10e85059-09b8-4282-8ad6-a338def5e9c7",
        "colab": {
          "base_uri": "https://localhost:8080/"
        }
      },
      "source": [
        "df_trip.dtypes"
      ],
      "execution_count": null,
      "outputs": [
        {
          "output_type": "execute_result",
          "data": {
            "text/plain": [
              "trip_id                      object\n",
              "starttime            datetime64[ns]\n",
              "stoptime             datetime64[ns]\n",
              "bikeid                       object\n",
              "tripduration                float64\n",
              "from_station_name            object\n",
              "to_station_name              object\n",
              "from_station_id              object\n",
              "to_station_id                object\n",
              "usertype                     object\n",
              "gender                       object\n",
              "birthyear                   float64\n",
              "dtype: object"
            ]
          },
          "metadata": {
            "tags": []
          },
          "execution_count": 12
        }
      ]
    },
    {
      "cell_type": "code",
      "metadata": {
        "id": "mmVoqdNn5H9m",
        "outputId": "f132a526-a86a-45a4-b921-d673b19e1339",
        "colab": {
          "base_uri": "https://localhost:8080/",
          "height": 383
        }
      },
      "source": [
        "df_trip.head(5)"
      ],
      "execution_count": null,
      "outputs": [
        {
          "output_type": "execute_result",
          "data": {
            "text/html": [
              "<div>\n",
              "<style scoped>\n",
              "    .dataframe tbody tr th:only-of-type {\n",
              "        vertical-align: middle;\n",
              "    }\n",
              "\n",
              "    .dataframe tbody tr th {\n",
              "        vertical-align: top;\n",
              "    }\n",
              "\n",
              "    .dataframe thead th {\n",
              "        text-align: right;\n",
              "    }\n",
              "</style>\n",
              "<table border=\"1\" class=\"dataframe\">\n",
              "  <thead>\n",
              "    <tr style=\"text-align: right;\">\n",
              "      <th></th>\n",
              "      <th>trip_id</th>\n",
              "      <th>starttime</th>\n",
              "      <th>stoptime</th>\n",
              "      <th>bikeid</th>\n",
              "      <th>tripduration</th>\n",
              "      <th>from_station_name</th>\n",
              "      <th>to_station_name</th>\n",
              "      <th>from_station_id</th>\n",
              "      <th>to_station_id</th>\n",
              "      <th>usertype</th>\n",
              "      <th>gender</th>\n",
              "      <th>birthyear</th>\n",
              "    </tr>\n",
              "  </thead>\n",
              "  <tbody>\n",
              "    <tr>\n",
              "      <th>0</th>\n",
              "      <td>431</td>\n",
              "      <td>2014-10-13 10:31:00</td>\n",
              "      <td>2014-10-13 10:48:00</td>\n",
              "      <td>SEA00298</td>\n",
              "      <td>985.935</td>\n",
              "      <td>2nd Ave &amp; Spring St</td>\n",
              "      <td>Occidental Park / Occidental Ave S &amp; S Washing...</td>\n",
              "      <td>CBD-06</td>\n",
              "      <td>PS-04</td>\n",
              "      <td>Member</td>\n",
              "      <td>Male</td>\n",
              "      <td>1960.0</td>\n",
              "    </tr>\n",
              "    <tr>\n",
              "      <th>1</th>\n",
              "      <td>432</td>\n",
              "      <td>2014-10-13 10:32:00</td>\n",
              "      <td>2014-10-13 10:48:00</td>\n",
              "      <td>SEA00195</td>\n",
              "      <td>926.375</td>\n",
              "      <td>2nd Ave &amp; Spring St</td>\n",
              "      <td>Occidental Park / Occidental Ave S &amp; S Washing...</td>\n",
              "      <td>CBD-06</td>\n",
              "      <td>PS-04</td>\n",
              "      <td>Member</td>\n",
              "      <td>Male</td>\n",
              "      <td>1970.0</td>\n",
              "    </tr>\n",
              "    <tr>\n",
              "      <th>2</th>\n",
              "      <td>433</td>\n",
              "      <td>2014-10-13 10:33:00</td>\n",
              "      <td>2014-10-13 10:48:00</td>\n",
              "      <td>SEA00486</td>\n",
              "      <td>883.831</td>\n",
              "      <td>2nd Ave &amp; Spring St</td>\n",
              "      <td>Occidental Park / Occidental Ave S &amp; S Washing...</td>\n",
              "      <td>CBD-06</td>\n",
              "      <td>PS-04</td>\n",
              "      <td>Member</td>\n",
              "      <td>Female</td>\n",
              "      <td>1988.0</td>\n",
              "    </tr>\n",
              "    <tr>\n",
              "      <th>3</th>\n",
              "      <td>434</td>\n",
              "      <td>2014-10-13 10:34:00</td>\n",
              "      <td>2014-10-13 10:48:00</td>\n",
              "      <td>SEA00333</td>\n",
              "      <td>865.937</td>\n",
              "      <td>2nd Ave &amp; Spring St</td>\n",
              "      <td>Occidental Park / Occidental Ave S &amp; S Washing...</td>\n",
              "      <td>CBD-06</td>\n",
              "      <td>PS-04</td>\n",
              "      <td>Member</td>\n",
              "      <td>Female</td>\n",
              "      <td>1977.0</td>\n",
              "    </tr>\n",
              "    <tr>\n",
              "      <th>4</th>\n",
              "      <td>435</td>\n",
              "      <td>2014-10-13 10:34:00</td>\n",
              "      <td>2014-10-13 10:49:00</td>\n",
              "      <td>SEA00202</td>\n",
              "      <td>923.923</td>\n",
              "      <td>2nd Ave &amp; Spring St</td>\n",
              "      <td>Occidental Park / Occidental Ave S &amp; S Washing...</td>\n",
              "      <td>CBD-06</td>\n",
              "      <td>PS-04</td>\n",
              "      <td>Member</td>\n",
              "      <td>Male</td>\n",
              "      <td>1971.0</td>\n",
              "    </tr>\n",
              "  </tbody>\n",
              "</table>\n",
              "</div>"
            ],
            "text/plain": [
              "  trip_id           starttime            stoptime  ... usertype  gender birthyear\n",
              "0     431 2014-10-13 10:31:00 2014-10-13 10:48:00  ...   Member    Male    1960.0\n",
              "1     432 2014-10-13 10:32:00 2014-10-13 10:48:00  ...   Member    Male    1970.0\n",
              "2     433 2014-10-13 10:33:00 2014-10-13 10:48:00  ...   Member  Female    1988.0\n",
              "3     434 2014-10-13 10:34:00 2014-10-13 10:48:00  ...   Member  Female    1977.0\n",
              "4     435 2014-10-13 10:34:00 2014-10-13 10:49:00  ...   Member    Male    1971.0\n",
              "\n",
              "[5 rows x 12 columns]"
            ]
          },
          "metadata": {
            "tags": []
          },
          "execution_count": 13
        }
      ]
    },
    {
      "cell_type": "code",
      "metadata": {
        "id": "PgT98-fA7FeP",
        "outputId": "e301c556-01ea-426d-f2f6-0531f8f85abe",
        "colab": {
          "base_uri": "https://localhost:8080/",
          "height": 229
        }
      },
      "source": [
        "df_station.head(5)"
      ],
      "execution_count": null,
      "outputs": [
        {
          "output_type": "execute_result",
          "data": {
            "text/html": [
              "<div>\n",
              "<style scoped>\n",
              "    .dataframe tbody tr th:only-of-type {\n",
              "        vertical-align: middle;\n",
              "    }\n",
              "\n",
              "    .dataframe tbody tr th {\n",
              "        vertical-align: top;\n",
              "    }\n",
              "\n",
              "    .dataframe thead th {\n",
              "        text-align: right;\n",
              "    }\n",
              "</style>\n",
              "<table border=\"1\" class=\"dataframe\">\n",
              "  <thead>\n",
              "    <tr style=\"text-align: right;\">\n",
              "      <th></th>\n",
              "      <th>station_id</th>\n",
              "      <th>name</th>\n",
              "      <th>lat</th>\n",
              "      <th>long</th>\n",
              "      <th>install_date</th>\n",
              "      <th>install_dockcount</th>\n",
              "      <th>modification_date</th>\n",
              "      <th>current_dockcount</th>\n",
              "      <th>decommission_date</th>\n",
              "    </tr>\n",
              "  </thead>\n",
              "  <tbody>\n",
              "    <tr>\n",
              "      <th>0</th>\n",
              "      <td>BT-01</td>\n",
              "      <td>3rd Ave &amp; Broad St</td>\n",
              "      <td>47.618418</td>\n",
              "      <td>-122.350964</td>\n",
              "      <td>10/13/2014</td>\n",
              "      <td>18</td>\n",
              "      <td>NaN</td>\n",
              "      <td>18</td>\n",
              "      <td>NaN</td>\n",
              "    </tr>\n",
              "    <tr>\n",
              "      <th>1</th>\n",
              "      <td>BT-03</td>\n",
              "      <td>2nd Ave &amp; Vine St</td>\n",
              "      <td>47.615829</td>\n",
              "      <td>-122.348564</td>\n",
              "      <td>10/13/2014</td>\n",
              "      <td>16</td>\n",
              "      <td>NaN</td>\n",
              "      <td>16</td>\n",
              "      <td>NaN</td>\n",
              "    </tr>\n",
              "    <tr>\n",
              "      <th>2</th>\n",
              "      <td>BT-04</td>\n",
              "      <td>6th Ave &amp; Blanchard St</td>\n",
              "      <td>47.616094</td>\n",
              "      <td>-122.341102</td>\n",
              "      <td>10/13/2014</td>\n",
              "      <td>16</td>\n",
              "      <td>NaN</td>\n",
              "      <td>16</td>\n",
              "      <td>NaN</td>\n",
              "    </tr>\n",
              "    <tr>\n",
              "      <th>3</th>\n",
              "      <td>BT-05</td>\n",
              "      <td>2nd Ave &amp; Blanchard St</td>\n",
              "      <td>47.613110</td>\n",
              "      <td>-122.344208</td>\n",
              "      <td>10/13/2014</td>\n",
              "      <td>14</td>\n",
              "      <td>NaN</td>\n",
              "      <td>14</td>\n",
              "      <td>NaN</td>\n",
              "    </tr>\n",
              "    <tr>\n",
              "      <th>4</th>\n",
              "      <td>CBD-03</td>\n",
              "      <td>7th Ave &amp; Union St</td>\n",
              "      <td>47.610731</td>\n",
              "      <td>-122.332447</td>\n",
              "      <td>10/13/2014</td>\n",
              "      <td>20</td>\n",
              "      <td>NaN</td>\n",
              "      <td>20</td>\n",
              "      <td>NaN</td>\n",
              "    </tr>\n",
              "  </tbody>\n",
              "</table>\n",
              "</div>"
            ],
            "text/plain": [
              "  station_id                    name  ...  current_dockcount  decommission_date\n",
              "0      BT-01      3rd Ave & Broad St  ...                 18                NaN\n",
              "1      BT-03       2nd Ave & Vine St  ...                 16                NaN\n",
              "2      BT-04  6th Ave & Blanchard St  ...                 16                NaN\n",
              "3      BT-05  2nd Ave & Blanchard St  ...                 14                NaN\n",
              "4     CBD-03      7th Ave & Union St  ...                 20                NaN\n",
              "\n",
              "[5 rows x 9 columns]"
            ]
          },
          "metadata": {
            "tags": []
          },
          "execution_count": 14
        }
      ]
    },
    {
      "cell_type": "code",
      "metadata": {
        "id": "XLYEHJyq7J1u",
        "outputId": "a4dd8c60-5636-4f44-a8c7-fe4f0fdfedbf",
        "colab": {
          "base_uri": "https://localhost:8080/",
          "height": 215
        }
      },
      "source": [
        "df_weather.head(5)"
      ],
      "execution_count": null,
      "outputs": [
        {
          "output_type": "execute_result",
          "data": {
            "text/html": [
              "<div>\n",
              "<style scoped>\n",
              "    .dataframe tbody tr th:only-of-type {\n",
              "        vertical-align: middle;\n",
              "    }\n",
              "\n",
              "    .dataframe tbody tr th {\n",
              "        vertical-align: top;\n",
              "    }\n",
              "\n",
              "    .dataframe thead th {\n",
              "        text-align: right;\n",
              "    }\n",
              "</style>\n",
              "<table border=\"1\" class=\"dataframe\">\n",
              "  <thead>\n",
              "    <tr style=\"text-align: right;\">\n",
              "      <th></th>\n",
              "      <th>Date</th>\n",
              "      <th>Max_Temperature_F</th>\n",
              "      <th>Mean_Temperature_F</th>\n",
              "      <th>Min_TemperatureF</th>\n",
              "      <th>Max_Dew_Point_F</th>\n",
              "      <th>MeanDew_Point_F</th>\n",
              "      <th>Min_Dewpoint_F</th>\n",
              "      <th>Max_Humidity</th>\n",
              "      <th>Mean_Humidity</th>\n",
              "      <th>Min_Humidity</th>\n",
              "      <th>Max_Sea_Level_Pressure_In</th>\n",
              "      <th>Mean_Sea_Level_Pressure_In</th>\n",
              "      <th>Min_Sea_Level_Pressure_In</th>\n",
              "      <th>Max_Visibility_Miles</th>\n",
              "      <th>Mean_Visibility_Miles</th>\n",
              "      <th>Min_Visibility_Miles</th>\n",
              "      <th>Max_Wind_Speed_MPH</th>\n",
              "      <th>Mean_Wind_Speed_MPH</th>\n",
              "      <th>Max_Gust_Speed_MPH</th>\n",
              "      <th>Precipitation_In</th>\n",
              "      <th>Events</th>\n",
              "    </tr>\n",
              "  </thead>\n",
              "  <tbody>\n",
              "    <tr>\n",
              "      <th>0</th>\n",
              "      <td>10/13/2014</td>\n",
              "      <td>71</td>\n",
              "      <td>62.0</td>\n",
              "      <td>54</td>\n",
              "      <td>55</td>\n",
              "      <td>51</td>\n",
              "      <td>46</td>\n",
              "      <td>87</td>\n",
              "      <td>68</td>\n",
              "      <td>46</td>\n",
              "      <td>30.03</td>\n",
              "      <td>29.79</td>\n",
              "      <td>29.65</td>\n",
              "      <td>10</td>\n",
              "      <td>10</td>\n",
              "      <td>4</td>\n",
              "      <td>13</td>\n",
              "      <td>4</td>\n",
              "      <td>21</td>\n",
              "      <td>0.00</td>\n",
              "      <td>Rain</td>\n",
              "    </tr>\n",
              "    <tr>\n",
              "      <th>1</th>\n",
              "      <td>10/14/2014</td>\n",
              "      <td>63</td>\n",
              "      <td>59.0</td>\n",
              "      <td>55</td>\n",
              "      <td>52</td>\n",
              "      <td>51</td>\n",
              "      <td>50</td>\n",
              "      <td>88</td>\n",
              "      <td>78</td>\n",
              "      <td>63</td>\n",
              "      <td>29.84</td>\n",
              "      <td>29.75</td>\n",
              "      <td>29.54</td>\n",
              "      <td>10</td>\n",
              "      <td>9</td>\n",
              "      <td>3</td>\n",
              "      <td>10</td>\n",
              "      <td>5</td>\n",
              "      <td>17</td>\n",
              "      <td>0.11</td>\n",
              "      <td>Rain</td>\n",
              "    </tr>\n",
              "    <tr>\n",
              "      <th>2</th>\n",
              "      <td>10/15/2014</td>\n",
              "      <td>62</td>\n",
              "      <td>58.0</td>\n",
              "      <td>54</td>\n",
              "      <td>53</td>\n",
              "      <td>50</td>\n",
              "      <td>46</td>\n",
              "      <td>87</td>\n",
              "      <td>77</td>\n",
              "      <td>67</td>\n",
              "      <td>29.98</td>\n",
              "      <td>29.71</td>\n",
              "      <td>29.51</td>\n",
              "      <td>10</td>\n",
              "      <td>9</td>\n",
              "      <td>3</td>\n",
              "      <td>18</td>\n",
              "      <td>7</td>\n",
              "      <td>25</td>\n",
              "      <td>0.45</td>\n",
              "      <td>Rain</td>\n",
              "    </tr>\n",
              "    <tr>\n",
              "      <th>3</th>\n",
              "      <td>10/16/2014</td>\n",
              "      <td>71</td>\n",
              "      <td>61.0</td>\n",
              "      <td>52</td>\n",
              "      <td>49</td>\n",
              "      <td>46</td>\n",
              "      <td>42</td>\n",
              "      <td>83</td>\n",
              "      <td>61</td>\n",
              "      <td>36</td>\n",
              "      <td>30.03</td>\n",
              "      <td>29.95</td>\n",
              "      <td>29.81</td>\n",
              "      <td>10</td>\n",
              "      <td>10</td>\n",
              "      <td>10</td>\n",
              "      <td>9</td>\n",
              "      <td>4</td>\n",
              "      <td>-</td>\n",
              "      <td>0.00</td>\n",
              "      <td>Rain</td>\n",
              "    </tr>\n",
              "    <tr>\n",
              "      <th>4</th>\n",
              "      <td>10/17/2014</td>\n",
              "      <td>64</td>\n",
              "      <td>60.0</td>\n",
              "      <td>57</td>\n",
              "      <td>55</td>\n",
              "      <td>51</td>\n",
              "      <td>41</td>\n",
              "      <td>87</td>\n",
              "      <td>72</td>\n",
              "      <td>46</td>\n",
              "      <td>29.83</td>\n",
              "      <td>29.78</td>\n",
              "      <td>29.73</td>\n",
              "      <td>10</td>\n",
              "      <td>10</td>\n",
              "      <td>6</td>\n",
              "      <td>8</td>\n",
              "      <td>3</td>\n",
              "      <td>-</td>\n",
              "      <td>0.14</td>\n",
              "      <td>Rain</td>\n",
              "    </tr>\n",
              "  </tbody>\n",
              "</table>\n",
              "</div>"
            ],
            "text/plain": [
              "         Date  Max_Temperature_F  ...  Precipitation_In  Events\n",
              "0  10/13/2014                 71  ...              0.00    Rain\n",
              "1  10/14/2014                 63  ...              0.11    Rain\n",
              "2  10/15/2014                 62  ...              0.45    Rain\n",
              "3  10/16/2014                 71  ...              0.00    Rain\n",
              "4  10/17/2014                 64  ...              0.14    Rain\n",
              "\n",
              "[5 rows x 21 columns]"
            ]
          },
          "metadata": {
            "tags": []
          },
          "execution_count": 15
        }
      ]
    },
    {
      "cell_type": "code",
      "metadata": {
        "id": "1m1_sGifADAn"
      },
      "source": [
        "df_trip['type'] = LabelEncoder().fit_transform(df_trip['usertype'])"
      ],
      "execution_count": null,
      "outputs": []
    },
    {
      "cell_type": "code",
      "metadata": {
        "id": "jvFBlFSVShys"
      },
      "source": [
        "df_trip['gender'].replace({'' : 'NaN'}, inplace=True)"
      ],
      "execution_count": null,
      "outputs": []
    },
    {
      "cell_type": "code",
      "metadata": {
        "id": "JVG3jJx6ENJz"
      },
      "source": [
        "df_trip.to_csv('output/trip_date.csv')"
      ],
      "execution_count": null,
      "outputs": []
    },
    {
      "cell_type": "code",
      "metadata": {
        "id": "ADTgtebdDzv9"
      },
      "source": [
        "df_trip_date = pd.read_csv('output/trip_date.csv',  parse_dates=['Date'], index_col=['Date'])"
      ],
      "execution_count": null,
      "outputs": []
    },
    {
      "cell_type": "code",
      "metadata": {
        "id": "ESfDwMXEF8qY"
      },
      "source": [
        "df_trip_date.drop('Unnamed: 0', axis=1, inplace=True)"
      ],
      "execution_count": null,
      "outputs": []
    },
    {
      "cell_type": "code",
      "metadata": {
        "id": "RYOCTblEJ6-7"
      },
      "source": [
        "df_trip['tripduration_minutes'] =  round(df_trip['tripduration'] / 60, 0)"
      ],
      "execution_count": null,
      "outputs": []
    },
    {
      "cell_type": "markdown",
      "metadata": {
        "id": "MvJDqkjw8GhW"
      },
      "source": [
        "# Data Exploratory"
      ]
    },
    {
      "cell_type": "code",
      "metadata": {
        "id": "8JfqKlLqJ3OL",
        "outputId": "8b527cd7-d332-4d8c-9efe-31876e6cfa63",
        "colab": {
          "base_uri": "https://localhost:8080/"
        }
      },
      "source": [
        "df_weather.shape"
      ],
      "execution_count": null,
      "outputs": [
        {
          "output_type": "execute_result",
          "data": {
            "text/plain": [
              "(689, 21)"
            ]
          },
          "metadata": {
            "tags": []
          },
          "execution_count": 147
        }
      ]
    },
    {
      "cell_type": "code",
      "metadata": {
        "id": "s4ilvd4e7NLe",
        "outputId": "c24beeae-5941-4ed9-f4ae-50c232ceb09b",
        "colab": {
          "base_uri": "https://localhost:8080/"
        }
      },
      "source": [
        "df_station.shape"
      ],
      "execution_count": null,
      "outputs": [
        {
          "output_type": "execute_result",
          "data": {
            "text/plain": [
              "(58, 11)"
            ]
          },
          "metadata": {
            "tags": []
          },
          "execution_count": 148
        }
      ]
    },
    {
      "cell_type": "code",
      "metadata": {
        "id": "IvCLei5g8UnX",
        "outputId": "2dca4dc7-3e27-4ef9-fe63-258815b8dea2",
        "colab": {
          "base_uri": "https://localhost:8080/"
        }
      },
      "source": [
        "df_trip.shape"
      ],
      "execution_count": null,
      "outputs": [
        {
          "output_type": "execute_result",
          "data": {
            "text/plain": [
              "(286857, 16)"
            ]
          },
          "metadata": {
            "tags": []
          },
          "execution_count": 149
        }
      ]
    },
    {
      "cell_type": "code",
      "metadata": {
        "id": "sgSKPm2JKNBw",
        "outputId": "40076dff-0a49-4a74-bd24-bb1ca88c29f4",
        "colab": {
          "base_uri": "https://localhost:8080/"
        }
      },
      "source": [
        "df_weather.isna().sum()"
      ],
      "execution_count": null,
      "outputs": [
        {
          "output_type": "execute_result",
          "data": {
            "text/plain": [
              "Date                            0\n",
              "Max_Temperature_F               0\n",
              "Mean_Temperature_F              1\n",
              "Min_TemperatureF                0\n",
              "Max_Dew_Point_F                 0\n",
              "MeanDew_Point_F                 0\n",
              "Min_Dewpoint_F                  0\n",
              "Max_Humidity                    0\n",
              "Mean_Humidity                   0\n",
              "Min_Humidity                    0\n",
              "Max_Sea_Level_Pressure_In       0\n",
              "Mean_Sea_Level_Pressure_In      0\n",
              "Min_Sea_Level_Pressure_In       0\n",
              "Max_Visibility_Miles            0\n",
              "Mean_Visibility_Miles           0\n",
              "Min_Visibility_Miles            0\n",
              "Max_Wind_Speed_MPH              0\n",
              "Mean_Wind_Speed_MPH             0\n",
              "Max_Gust_Speed_MPH            185\n",
              "Precipitation_In                0\n",
              "Events                        361\n",
              "dtype: int64"
            ]
          },
          "metadata": {
            "tags": []
          },
          "execution_count": 150
        }
      ]
    },
    {
      "cell_type": "code",
      "metadata": {
        "id": "JgGYh2WWK6n4",
        "outputId": "663fa757-9d93-43e3-8961-e9835dbcf95a",
        "colab": {
          "base_uri": "https://localhost:8080/"
        }
      },
      "source": [
        "df_trip.isna().sum()"
      ],
      "execution_count": null,
      "outputs": [
        {
          "output_type": "execute_result",
          "data": {
            "text/plain": [
              "trip_id                 0\n",
              "starttime               0\n",
              "stoptime                0\n",
              "bikeid                  0\n",
              "tripduration            0\n",
              "from_station_name       0\n",
              "to_station_name         0\n",
              "from_station_id         0\n",
              "to_station_id           0\n",
              "usertype                0\n",
              "gender                  0\n",
              "birthyear               0\n",
              "age                     0\n",
              "Date                    0\n",
              "type                    0\n",
              "tripduration_minutes    0\n",
              "dtype: int64"
            ]
          },
          "metadata": {
            "tags": []
          },
          "execution_count": 151
        }
      ]
    },
    {
      "cell_type": "code",
      "metadata": {
        "id": "udJhY3BIK-GP",
        "outputId": "6acdb569-e292-4edb-cd0d-8b8b3dcbe029",
        "colab": {
          "base_uri": "https://localhost:8080/"
        }
      },
      "source": [
        "df_station.isna().sum()"
      ],
      "execution_count": null,
      "outputs": [
        {
          "output_type": "execute_result",
          "data": {
            "text/plain": [
              "station_id            0\n",
              "name                  0\n",
              "lat                   0\n",
              "long                  0\n",
              "install_date          0\n",
              "install_dockcount     0\n",
              "modification_date    41\n",
              "current_dockcount     0\n",
              "decommission_date    54\n",
              "from_station_id       0\n",
              "to_station_id         0\n",
              "dtype: int64"
            ]
          },
          "metadata": {
            "tags": []
          },
          "execution_count": 152
        }
      ]
    },
    {
      "cell_type": "code",
      "metadata": {
        "id": "vH-VmrZJLBgA",
        "outputId": "578f3fa6-e668-43be-e427-a6444273a36b",
        "colab": {
          "base_uri": "https://localhost:8080/",
          "height": 284
        }
      },
      "source": [
        "df_trip.describe()"
      ],
      "execution_count": null,
      "outputs": [
        {
          "output_type": "execute_result",
          "data": {
            "text/html": [
              "<div>\n",
              "<style scoped>\n",
              "    .dataframe tbody tr th:only-of-type {\n",
              "        vertical-align: middle;\n",
              "    }\n",
              "\n",
              "    .dataframe tbody tr th {\n",
              "        vertical-align: top;\n",
              "    }\n",
              "\n",
              "    .dataframe thead th {\n",
              "        text-align: right;\n",
              "    }\n",
              "</style>\n",
              "<table border=\"1\" class=\"dataframe\">\n",
              "  <thead>\n",
              "    <tr style=\"text-align: right;\">\n",
              "      <th></th>\n",
              "      <th>tripduration</th>\n",
              "      <th>birthyear</th>\n",
              "      <th>age</th>\n",
              "      <th>type</th>\n",
              "      <th>tripduration_minutes</th>\n",
              "    </tr>\n",
              "  </thead>\n",
              "  <tbody>\n",
              "    <tr>\n",
              "      <th>count</th>\n",
              "      <td>286857.000000</td>\n",
              "      <td>286857.000000</td>\n",
              "      <td>286857.000000</td>\n",
              "      <td>286857.000000</td>\n",
              "      <td>286857.000000</td>\n",
              "    </tr>\n",
              "    <tr>\n",
              "      <th>mean</th>\n",
              "      <td>1178.295675</td>\n",
              "      <td>1980.214605</td>\n",
              "      <td>34.907553</td>\n",
              "      <td>0.367082</td>\n",
              "      <td>19.638175</td>\n",
              "    </tr>\n",
              "    <tr>\n",
              "      <th>std</th>\n",
              "      <td>2038.458947</td>\n",
              "      <td>8.110558</td>\n",
              "      <td>8.114919</td>\n",
              "      <td>0.482010</td>\n",
              "      <td>33.976089</td>\n",
              "    </tr>\n",
              "    <tr>\n",
              "      <th>min</th>\n",
              "      <td>60.008000</td>\n",
              "      <td>1931.000000</td>\n",
              "      <td>16.000000</td>\n",
              "      <td>0.000000</td>\n",
              "      <td>1.000000</td>\n",
              "    </tr>\n",
              "    <tr>\n",
              "      <th>25%</th>\n",
              "      <td>387.924000</td>\n",
              "      <td>1981.000000</td>\n",
              "      <td>30.000000</td>\n",
              "      <td>0.000000</td>\n",
              "      <td>6.000000</td>\n",
              "    </tr>\n",
              "    <tr>\n",
              "      <th>50%</th>\n",
              "      <td>624.842000</td>\n",
              "      <td>1981.000000</td>\n",
              "      <td>34.000000</td>\n",
              "      <td>0.000000</td>\n",
              "      <td>10.000000</td>\n",
              "    </tr>\n",
              "    <tr>\n",
              "      <th>75%</th>\n",
              "      <td>1118.466000</td>\n",
              "      <td>1985.000000</td>\n",
              "      <td>35.000000</td>\n",
              "      <td>1.000000</td>\n",
              "      <td>19.000000</td>\n",
              "    </tr>\n",
              "    <tr>\n",
              "      <th>max</th>\n",
              "      <td>28794.398000</td>\n",
              "      <td>1999.000000</td>\n",
              "      <td>85.000000</td>\n",
              "      <td>1.000000</td>\n",
              "      <td>480.000000</td>\n",
              "    </tr>\n",
              "  </tbody>\n",
              "</table>\n",
              "</div>"
            ],
            "text/plain": [
              "        tripduration      birthyear  ...           type  tripduration_minutes\n",
              "count  286857.000000  286857.000000  ...  286857.000000         286857.000000\n",
              "mean     1178.295675    1980.214605  ...       0.367082             19.638175\n",
              "std      2038.458947       8.110558  ...       0.482010             33.976089\n",
              "min        60.008000    1931.000000  ...       0.000000              1.000000\n",
              "25%       387.924000    1981.000000  ...       0.000000              6.000000\n",
              "50%       624.842000    1981.000000  ...       0.000000             10.000000\n",
              "75%      1118.466000    1985.000000  ...       1.000000             19.000000\n",
              "max     28794.398000    1999.000000  ...       1.000000            480.000000\n",
              "\n",
              "[8 rows x 5 columns]"
            ]
          },
          "metadata": {
            "tags": []
          },
          "execution_count": 153
        }
      ]
    },
    {
      "cell_type": "code",
      "metadata": {
        "id": "kulfmadtLFDo",
        "outputId": "cb4feaf6-b17b-4ca6-fa0c-07be4011f2d1",
        "colab": {
          "base_uri": "https://localhost:8080/",
          "height": 304
        }
      },
      "source": [
        "df_weather.describe()"
      ],
      "execution_count": null,
      "outputs": [
        {
          "output_type": "execute_result",
          "data": {
            "text/html": [
              "<div>\n",
              "<style scoped>\n",
              "    .dataframe tbody tr th:only-of-type {\n",
              "        vertical-align: middle;\n",
              "    }\n",
              "\n",
              "    .dataframe tbody tr th {\n",
              "        vertical-align: top;\n",
              "    }\n",
              "\n",
              "    .dataframe thead th {\n",
              "        text-align: right;\n",
              "    }\n",
              "</style>\n",
              "<table border=\"1\" class=\"dataframe\">\n",
              "  <thead>\n",
              "    <tr style=\"text-align: right;\">\n",
              "      <th></th>\n",
              "      <th>Max_Temperature_F</th>\n",
              "      <th>Mean_Temperature_F</th>\n",
              "      <th>Min_TemperatureF</th>\n",
              "      <th>Max_Dew_Point_F</th>\n",
              "      <th>MeanDew_Point_F</th>\n",
              "      <th>Min_Dewpoint_F</th>\n",
              "      <th>Max_Humidity</th>\n",
              "      <th>Mean_Humidity</th>\n",
              "      <th>Min_Humidity</th>\n",
              "      <th>Max_Sea_Level_Pressure_In</th>\n",
              "      <th>Mean_Sea_Level_Pressure_In</th>\n",
              "      <th>Min_Sea_Level_Pressure_In</th>\n",
              "      <th>Max_Visibility_Miles</th>\n",
              "      <th>Mean_Visibility_Miles</th>\n",
              "      <th>Min_Visibility_Miles</th>\n",
              "      <th>Max_Wind_Speed_MPH</th>\n",
              "      <th>Mean_Wind_Speed_MPH</th>\n",
              "      <th>Precipitation_In</th>\n",
              "    </tr>\n",
              "  </thead>\n",
              "  <tbody>\n",
              "    <tr>\n",
              "      <th>count</th>\n",
              "      <td>689.000000</td>\n",
              "      <td>688.000000</td>\n",
              "      <td>689.000000</td>\n",
              "      <td>689.000000</td>\n",
              "      <td>689.000000</td>\n",
              "      <td>689.000000</td>\n",
              "      <td>689.000000</td>\n",
              "      <td>689.000000</td>\n",
              "      <td>689.000000</td>\n",
              "      <td>689.000000</td>\n",
              "      <td>689.000000</td>\n",
              "      <td>689.000000</td>\n",
              "      <td>689.000000</td>\n",
              "      <td>689.000000</td>\n",
              "      <td>689.000000</td>\n",
              "      <td>689.000000</td>\n",
              "      <td>689.00000</td>\n",
              "      <td>689.000000</td>\n",
              "    </tr>\n",
              "    <tr>\n",
              "      <th>mean</th>\n",
              "      <td>64.027576</td>\n",
              "      <td>56.584302</td>\n",
              "      <td>49.454282</td>\n",
              "      <td>48.571843</td>\n",
              "      <td>45.021771</td>\n",
              "      <td>40.873730</td>\n",
              "      <td>84.541364</td>\n",
              "      <td>68.506531</td>\n",
              "      <td>49.973875</td>\n",
              "      <td>30.121742</td>\n",
              "      <td>30.034761</td>\n",
              "      <td>29.940610</td>\n",
              "      <td>9.989840</td>\n",
              "      <td>9.429608</td>\n",
              "      <td>7.245283</td>\n",
              "      <td>11.085631</td>\n",
              "      <td>4.63135</td>\n",
              "      <td>0.105065</td>\n",
              "    </tr>\n",
              "    <tr>\n",
              "      <th>std</th>\n",
              "      <td>12.427843</td>\n",
              "      <td>10.408058</td>\n",
              "      <td>9.451437</td>\n",
              "      <td>7.501230</td>\n",
              "      <td>7.914025</td>\n",
              "      <td>8.854608</td>\n",
              "      <td>9.718948</td>\n",
              "      <td>12.701871</td>\n",
              "      <td>15.825701</td>\n",
              "      <td>0.183367</td>\n",
              "      <td>0.197503</td>\n",
              "      <td>0.221803</td>\n",
              "      <td>0.266679</td>\n",
              "      <td>1.174360</td>\n",
              "      <td>3.281278</td>\n",
              "      <td>3.921087</td>\n",
              "      <td>2.78032</td>\n",
              "      <td>0.235644</td>\n",
              "    </tr>\n",
              "    <tr>\n",
              "      <th>min</th>\n",
              "      <td>39.000000</td>\n",
              "      <td>33.000000</td>\n",
              "      <td>23.000000</td>\n",
              "      <td>10.000000</td>\n",
              "      <td>4.000000</td>\n",
              "      <td>1.000000</td>\n",
              "      <td>40.000000</td>\n",
              "      <td>24.000000</td>\n",
              "      <td>15.000000</td>\n",
              "      <td>29.470000</td>\n",
              "      <td>29.310000</td>\n",
              "      <td>29.140000</td>\n",
              "      <td>3.000000</td>\n",
              "      <td>1.000000</td>\n",
              "      <td>0.000000</td>\n",
              "      <td>4.000000</td>\n",
              "      <td>0.00000</td>\n",
              "      <td>0.000000</td>\n",
              "    </tr>\n",
              "    <tr>\n",
              "      <th>25%</th>\n",
              "      <td>55.000000</td>\n",
              "      <td>48.000000</td>\n",
              "      <td>43.000000</td>\n",
              "      <td>44.000000</td>\n",
              "      <td>41.000000</td>\n",
              "      <td>36.000000</td>\n",
              "      <td>78.000000</td>\n",
              "      <td>60.000000</td>\n",
              "      <td>38.000000</td>\n",
              "      <td>30.010000</td>\n",
              "      <td>29.930000</td>\n",
              "      <td>29.840000</td>\n",
              "      <td>10.000000</td>\n",
              "      <td>9.000000</td>\n",
              "      <td>4.000000</td>\n",
              "      <td>8.000000</td>\n",
              "      <td>3.00000</td>\n",
              "      <td>0.000000</td>\n",
              "    </tr>\n",
              "    <tr>\n",
              "      <th>50%</th>\n",
              "      <td>63.000000</td>\n",
              "      <td>56.000000</td>\n",
              "      <td>50.000000</td>\n",
              "      <td>50.000000</td>\n",
              "      <td>46.000000</td>\n",
              "      <td>42.000000</td>\n",
              "      <td>86.000000</td>\n",
              "      <td>70.000000</td>\n",
              "      <td>50.000000</td>\n",
              "      <td>30.120000</td>\n",
              "      <td>30.040000</td>\n",
              "      <td>29.960000</td>\n",
              "      <td>10.000000</td>\n",
              "      <td>10.000000</td>\n",
              "      <td>9.000000</td>\n",
              "      <td>10.000000</td>\n",
              "      <td>4.00000</td>\n",
              "      <td>0.000000</td>\n",
              "    </tr>\n",
              "    <tr>\n",
              "      <th>75%</th>\n",
              "      <td>73.000000</td>\n",
              "      <td>65.000000</td>\n",
              "      <td>57.000000</td>\n",
              "      <td>54.000000</td>\n",
              "      <td>51.000000</td>\n",
              "      <td>47.000000</td>\n",
              "      <td>90.000000</td>\n",
              "      <td>79.000000</td>\n",
              "      <td>63.000000</td>\n",
              "      <td>30.240000</td>\n",
              "      <td>30.160000</td>\n",
              "      <td>30.080000</td>\n",
              "      <td>10.000000</td>\n",
              "      <td>10.000000</td>\n",
              "      <td>10.000000</td>\n",
              "      <td>13.000000</td>\n",
              "      <td>6.00000</td>\n",
              "      <td>0.090000</td>\n",
              "    </tr>\n",
              "    <tr>\n",
              "      <th>max</th>\n",
              "      <td>98.000000</td>\n",
              "      <td>83.000000</td>\n",
              "      <td>70.000000</td>\n",
              "      <td>77.000000</td>\n",
              "      <td>59.000000</td>\n",
              "      <td>57.000000</td>\n",
              "      <td>100.000000</td>\n",
              "      <td>95.000000</td>\n",
              "      <td>87.000000</td>\n",
              "      <td>30.860000</td>\n",
              "      <td>30.810000</td>\n",
              "      <td>30.750000</td>\n",
              "      <td>10.000000</td>\n",
              "      <td>10.000000</td>\n",
              "      <td>10.000000</td>\n",
              "      <td>30.000000</td>\n",
              "      <td>23.00000</td>\n",
              "      <td>2.200000</td>\n",
              "    </tr>\n",
              "  </tbody>\n",
              "</table>\n",
              "</div>"
            ],
            "text/plain": [
              "       Max_Temperature_F  ...  Precipitation_In\n",
              "count         689.000000  ...        689.000000\n",
              "mean           64.027576  ...          0.105065\n",
              "std            12.427843  ...          0.235644\n",
              "min            39.000000  ...          0.000000\n",
              "25%            55.000000  ...          0.000000\n",
              "50%            63.000000  ...          0.000000\n",
              "75%            73.000000  ...          0.090000\n",
              "max            98.000000  ...          2.200000\n",
              "\n",
              "[8 rows x 18 columns]"
            ]
          },
          "metadata": {
            "tags": []
          },
          "execution_count": 154
        }
      ]
    },
    {
      "cell_type": "code",
      "metadata": {
        "id": "ZxNnkadILKnw",
        "outputId": "f70f6d7c-1a91-46f1-9c8d-815b6c889a67",
        "colab": {
          "base_uri": "https://localhost:8080/",
          "height": 284
        }
      },
      "source": [
        "df_station.describe()"
      ],
      "execution_count": null,
      "outputs": [
        {
          "output_type": "execute_result",
          "data": {
            "text/html": [
              "<div>\n",
              "<style scoped>\n",
              "    .dataframe tbody tr th:only-of-type {\n",
              "        vertical-align: middle;\n",
              "    }\n",
              "\n",
              "    .dataframe tbody tr th {\n",
              "        vertical-align: top;\n",
              "    }\n",
              "\n",
              "    .dataframe thead th {\n",
              "        text-align: right;\n",
              "    }\n",
              "</style>\n",
              "<table border=\"1\" class=\"dataframe\">\n",
              "  <thead>\n",
              "    <tr style=\"text-align: right;\">\n",
              "      <th></th>\n",
              "      <th>lat</th>\n",
              "      <th>long</th>\n",
              "      <th>install_dockcount</th>\n",
              "      <th>current_dockcount</th>\n",
              "    </tr>\n",
              "  </thead>\n",
              "  <tbody>\n",
              "    <tr>\n",
              "      <th>count</th>\n",
              "      <td>58.000000</td>\n",
              "      <td>58.000000</td>\n",
              "      <td>58.000000</td>\n",
              "      <td>58.000000</td>\n",
              "    </tr>\n",
              "    <tr>\n",
              "      <th>mean</th>\n",
              "      <td>47.624796</td>\n",
              "      <td>-122.327242</td>\n",
              "      <td>17.586207</td>\n",
              "      <td>16.517241</td>\n",
              "    </tr>\n",
              "    <tr>\n",
              "      <th>std</th>\n",
              "      <td>0.019066</td>\n",
              "      <td>0.014957</td>\n",
              "      <td>3.060985</td>\n",
              "      <td>5.117021</td>\n",
              "    </tr>\n",
              "    <tr>\n",
              "      <th>min</th>\n",
              "      <td>47.598488</td>\n",
              "      <td>-122.355230</td>\n",
              "      <td>12.000000</td>\n",
              "      <td>0.000000</td>\n",
              "    </tr>\n",
              "    <tr>\n",
              "      <th>25%</th>\n",
              "      <td>47.613239</td>\n",
              "      <td>-122.338735</td>\n",
              "      <td>16.000000</td>\n",
              "      <td>16.000000</td>\n",
              "    </tr>\n",
              "    <tr>\n",
              "      <th>50%</th>\n",
              "      <td>47.618591</td>\n",
              "      <td>-122.328207</td>\n",
              "      <td>18.000000</td>\n",
              "      <td>18.000000</td>\n",
              "    </tr>\n",
              "    <tr>\n",
              "      <th>75%</th>\n",
              "      <td>47.627712</td>\n",
              "      <td>-122.316691</td>\n",
              "      <td>18.000000</td>\n",
              "      <td>18.000000</td>\n",
              "    </tr>\n",
              "    <tr>\n",
              "      <th>max</th>\n",
              "      <td>47.666145</td>\n",
              "      <td>-122.284119</td>\n",
              "      <td>30.000000</td>\n",
              "      <td>26.000000</td>\n",
              "    </tr>\n",
              "  </tbody>\n",
              "</table>\n",
              "</div>"
            ],
            "text/plain": [
              "             lat        long  install_dockcount  current_dockcount\n",
              "count  58.000000   58.000000          58.000000          58.000000\n",
              "mean   47.624796 -122.327242          17.586207          16.517241\n",
              "std     0.019066    0.014957           3.060985           5.117021\n",
              "min    47.598488 -122.355230          12.000000           0.000000\n",
              "25%    47.613239 -122.338735          16.000000          16.000000\n",
              "50%    47.618591 -122.328207          18.000000          18.000000\n",
              "75%    47.627712 -122.316691          18.000000          18.000000\n",
              "max    47.666145 -122.284119          30.000000          26.000000"
            ]
          },
          "metadata": {
            "tags": []
          },
          "execution_count": 155
        }
      ]
    },
    {
      "cell_type": "code",
      "metadata": {
        "id": "UdaDoegsLMfw",
        "outputId": "fc666efd-9b14-4036-85a1-6d78e07063ad",
        "colab": {
          "base_uri": "https://localhost:8080/"
        }
      },
      "source": [
        "df_trip['gender'].value_counts()"
      ],
      "execution_count": null,
      "outputs": [
        {
          "output_type": "execute_result",
          "data": {
            "text/plain": [
              "Male      140564\n",
              "nan       105300\n",
              "Female     37562\n",
              "Other       3431\n",
              "Name: gender, dtype: int64"
            ]
          },
          "metadata": {
            "tags": []
          },
          "execution_count": 156
        }
      ]
    },
    {
      "cell_type": "code",
      "metadata": {
        "id": "KTRmTXBiLUn3",
        "outputId": "5b71d827-65d6-41e2-f591-28d1aae73b77",
        "colab": {
          "base_uri": "https://localhost:8080/"
        }
      },
      "source": [
        "df_trip['from_station_id'].value_counts()"
      ],
      "execution_count": null,
      "outputs": [
        {
          "output_type": "execute_result",
          "data": {
            "text/plain": [
              "WF-01            13054\n",
              "CH-07            11392\n",
              "BT-01            10934\n",
              "CBD-13           10049\n",
              "SLU-15            9994\n",
              "                 ...  \n",
              "UW-01              752\n",
              "WF-03              160\n",
              "Pronto shop 2        2\n",
              "8D OPS 02            2\n",
              "Pronto shop          1\n",
              "Name: from_station_id, Length: 61, dtype: int64"
            ]
          },
          "metadata": {
            "tags": []
          },
          "execution_count": 157
        }
      ]
    },
    {
      "cell_type": "code",
      "metadata": {
        "id": "kul_jhl8LpQw"
      },
      "source": [
        "top_10_to = pd.DataFrame(df_trip['to_station_id'].value_counts().nlargest(10)).reset_index()\n",
        "top_10_to.columns = ['Id','Count']"
      ],
      "execution_count": null,
      "outputs": []
    },
    {
      "cell_type": "code",
      "metadata": {
        "id": "V-SZ59aEMAJP"
      },
      "source": [
        "top_10_from = pd.DataFrame(df_trip['from_station_id'].value_counts().nlargest(10)).reset_index()\n",
        "top_10_from.columns = ['Id','Count']"
      ],
      "execution_count": null,
      "outputs": []
    },
    {
      "cell_type": "code",
      "metadata": {
        "id": "L7wSp--aTrmR",
        "outputId": "406226c5-e58a-4ae2-f8b5-32842e621fff",
        "colab": {
          "base_uri": "https://localhost:8080/"
        }
      },
      "source": [
        "top_10_from['Id']"
      ],
      "execution_count": null,
      "outputs": [
        {
          "output_type": "execute_result",
          "data": {
            "text/plain": [
              "0     WF-01\n",
              "1     CH-07\n",
              "2     BT-01\n",
              "3    CBD-13\n",
              "4    SLU-15\n",
              "5     CH-02\n",
              "6     CH-08\n",
              "7    SLU-01\n",
              "8     BT-03\n",
              "9     CH-05\n",
              "Name: Id, dtype: object"
            ]
          },
          "metadata": {
            "tags": []
          },
          "execution_count": 160
        }
      ]
    },
    {
      "cell_type": "code",
      "metadata": {
        "id": "fdF-pu2lUOSB",
        "outputId": "b3d97d11-59a7-47cd-b1ed-9faa86bb9e57",
        "colab": {
          "base_uri": "https://localhost:8080/"
        }
      },
      "source": [
        "top_10_to['Id']"
      ],
      "execution_count": null,
      "outputs": [
        {
          "output_type": "execute_result",
          "data": {
            "text/plain": [
              "0    CBD-13\n",
              "1     WF-01\n",
              "2    SLU-15\n",
              "3     BT-01\n",
              "4    SLU-07\n",
              "5     PS-04\n",
              "6    SLU-04\n",
              "7    SLU-16\n",
              "8     WF-04\n",
              "9    CBD-05\n",
              "Name: Id, dtype: object"
            ]
          },
          "metadata": {
            "tags": []
          },
          "execution_count": 161
        }
      ]
    },
    {
      "cell_type": "code",
      "metadata": {
        "id": "5mtFa1gtMi-v",
        "outputId": "f4875963-9507-4939-bc04-9727ecb4ff1c",
        "colab": {
          "base_uri": "https://localhost:8080/"
        }
      },
      "source": [
        "df_trip['tripduration'].describe()"
      ],
      "execution_count": null,
      "outputs": [
        {
          "output_type": "execute_result",
          "data": {
            "text/plain": [
              "count    286857.000000\n",
              "mean       1178.295675\n",
              "std        2038.458947\n",
              "min          60.008000\n",
              "25%         387.924000\n",
              "50%         624.842000\n",
              "75%        1118.466000\n",
              "max       28794.398000\n",
              "Name: tripduration, dtype: float64"
            ]
          },
          "metadata": {
            "tags": []
          },
          "execution_count": 162
        }
      ]
    },
    {
      "cell_type": "code",
      "metadata": {
        "id": "vd5n4Y4VOi7x",
        "outputId": "e30cd210-10a4-4044-f6f7-d0784ca91497",
        "colab": {
          "base_uri": "https://localhost:8080/",
          "height": 333
        }
      },
      "source": [
        "df_station.head(5)"
      ],
      "execution_count": null,
      "outputs": [
        {
          "output_type": "execute_result",
          "data": {
            "text/html": [
              "<div>\n",
              "<style scoped>\n",
              "    .dataframe tbody tr th:only-of-type {\n",
              "        vertical-align: middle;\n",
              "    }\n",
              "\n",
              "    .dataframe tbody tr th {\n",
              "        vertical-align: top;\n",
              "    }\n",
              "\n",
              "    .dataframe thead th {\n",
              "        text-align: right;\n",
              "    }\n",
              "</style>\n",
              "<table border=\"1\" class=\"dataframe\">\n",
              "  <thead>\n",
              "    <tr style=\"text-align: right;\">\n",
              "      <th></th>\n",
              "      <th>station_id</th>\n",
              "      <th>name</th>\n",
              "      <th>lat</th>\n",
              "      <th>long</th>\n",
              "      <th>install_date</th>\n",
              "      <th>install_dockcount</th>\n",
              "      <th>modification_date</th>\n",
              "      <th>current_dockcount</th>\n",
              "      <th>decommission_date</th>\n",
              "      <th>from_station_id</th>\n",
              "      <th>to_station_id</th>\n",
              "    </tr>\n",
              "  </thead>\n",
              "  <tbody>\n",
              "    <tr>\n",
              "      <th>0</th>\n",
              "      <td>BT-01</td>\n",
              "      <td>3rd Ave &amp; Broad St</td>\n",
              "      <td>47.618418</td>\n",
              "      <td>-122.350964</td>\n",
              "      <td>10/13/2014</td>\n",
              "      <td>18</td>\n",
              "      <td>NaN</td>\n",
              "      <td>18</td>\n",
              "      <td>NaN</td>\n",
              "      <td>BT-01</td>\n",
              "      <td>BT-01</td>\n",
              "    </tr>\n",
              "    <tr>\n",
              "      <th>1</th>\n",
              "      <td>BT-03</td>\n",
              "      <td>2nd Ave &amp; Vine St</td>\n",
              "      <td>47.615829</td>\n",
              "      <td>-122.348564</td>\n",
              "      <td>10/13/2014</td>\n",
              "      <td>16</td>\n",
              "      <td>NaN</td>\n",
              "      <td>16</td>\n",
              "      <td>NaN</td>\n",
              "      <td>BT-03</td>\n",
              "      <td>BT-03</td>\n",
              "    </tr>\n",
              "    <tr>\n",
              "      <th>2</th>\n",
              "      <td>BT-04</td>\n",
              "      <td>6th Ave &amp; Blanchard St</td>\n",
              "      <td>47.616094</td>\n",
              "      <td>-122.341102</td>\n",
              "      <td>10/13/2014</td>\n",
              "      <td>16</td>\n",
              "      <td>NaN</td>\n",
              "      <td>16</td>\n",
              "      <td>NaN</td>\n",
              "      <td>BT-04</td>\n",
              "      <td>BT-04</td>\n",
              "    </tr>\n",
              "    <tr>\n",
              "      <th>3</th>\n",
              "      <td>BT-05</td>\n",
              "      <td>2nd Ave &amp; Blanchard St</td>\n",
              "      <td>47.613110</td>\n",
              "      <td>-122.344208</td>\n",
              "      <td>10/13/2014</td>\n",
              "      <td>14</td>\n",
              "      <td>NaN</td>\n",
              "      <td>14</td>\n",
              "      <td>NaN</td>\n",
              "      <td>BT-05</td>\n",
              "      <td>BT-05</td>\n",
              "    </tr>\n",
              "    <tr>\n",
              "      <th>4</th>\n",
              "      <td>CBD-03</td>\n",
              "      <td>7th Ave &amp; Union St</td>\n",
              "      <td>47.610731</td>\n",
              "      <td>-122.332447</td>\n",
              "      <td>10/13/2014</td>\n",
              "      <td>20</td>\n",
              "      <td>NaN</td>\n",
              "      <td>20</td>\n",
              "      <td>NaN</td>\n",
              "      <td>CBD-03</td>\n",
              "      <td>CBD-03</td>\n",
              "    </tr>\n",
              "  </tbody>\n",
              "</table>\n",
              "</div>"
            ],
            "text/plain": [
              "  station_id                    name  ...  from_station_id  to_station_id\n",
              "0      BT-01      3rd Ave & Broad St  ...            BT-01          BT-01\n",
              "1      BT-03       2nd Ave & Vine St  ...            BT-03          BT-03\n",
              "2      BT-04  6th Ave & Blanchard St  ...            BT-04          BT-04\n",
              "3      BT-05  2nd Ave & Blanchard St  ...            BT-05          BT-05\n",
              "4     CBD-03      7th Ave & Union St  ...           CBD-03         CBD-03\n",
              "\n",
              "[5 rows x 11 columns]"
            ]
          },
          "metadata": {
            "tags": []
          },
          "execution_count": 163
        }
      ]
    },
    {
      "cell_type": "code",
      "metadata": {
        "id": "qUCXl6RHO0v3",
        "outputId": "8f61b186-3f8d-4745-e5ab-19bc788ec3c9",
        "colab": {
          "base_uri": "https://localhost:8080/"
        }
      },
      "source": [
        "len(df_station['station_id'].unique())"
      ],
      "execution_count": null,
      "outputs": [
        {
          "output_type": "execute_result",
          "data": {
            "text/plain": [
              "58"
            ]
          },
          "metadata": {
            "tags": []
          },
          "execution_count": 164
        }
      ]
    },
    {
      "cell_type": "code",
      "metadata": {
        "id": "fcj28HfNmHLu"
      },
      "source": [
        "df_station['from_station_id'] = df_station.station_id\n",
        "df_station['to_station_id'] = df_station.station_id"
      ],
      "execution_count": null,
      "outputs": []
    },
    {
      "cell_type": "code",
      "metadata": {
        "id": "kwc99Ftenefa"
      },
      "source": [
        "from_station = df_station[['lat', 'long','from_station_id']]"
      ],
      "execution_count": null,
      "outputs": []
    },
    {
      "cell_type": "code",
      "metadata": {
        "id": "vDipM8d5nqt5"
      },
      "source": [
        "to_station = df_station[['lat', 'long','to_station_id']]"
      ],
      "execution_count": null,
      "outputs": []
    },
    {
      "cell_type": "code",
      "metadata": {
        "id": "qsqMK2-7zCXT",
        "outputId": "99e3c661-0434-41b6-b563-826e849542ed",
        "colab": {
          "base_uri": "https://localhost:8080/"
        }
      },
      "source": [
        "df_trip['birthyear'].describe()"
      ],
      "execution_count": null,
      "outputs": [
        {
          "output_type": "execute_result",
          "data": {
            "text/plain": [
              "count    286857.000000\n",
              "mean       1980.214605\n",
              "std           8.110558\n",
              "min        1931.000000\n",
              "25%        1981.000000\n",
              "50%        1981.000000\n",
              "75%        1985.000000\n",
              "max        1999.000000\n",
              "Name: birthyear, dtype: float64"
            ]
          },
          "metadata": {
            "tags": []
          },
          "execution_count": 168
        }
      ]
    },
    {
      "cell_type": "code",
      "metadata": {
        "id": "OiTim_qyzAe3"
      },
      "source": [
        "df_trip.birthyear.fillna(value = np.random.randint(1974,1987), inplace=True)"
      ],
      "execution_count": null,
      "outputs": []
    },
    {
      "cell_type": "code",
      "metadata": {
        "id": "nz7wZHMoymQN"
      },
      "source": [
        "year = df_trip.starttime\n",
        "\n",
        "def age(year):\n",
        "    age = []\n",
        "    for i in year.index:\n",
        "        a = str(year[i])\n",
        "        b = a.split('-')[0]\n",
        "        c = pd.to_numeric(b)  \n",
        "        age.append(c.astype(int))\n",
        "    return age"
      ],
      "execution_count": null,
      "outputs": []
    },
    {
      "cell_type": "code",
      "metadata": {
        "id": "EiPii2Kzy0ym"
      },
      "source": [
        "ages = age(year)"
      ],
      "execution_count": null,
      "outputs": []
    },
    {
      "cell_type": "code",
      "metadata": {
        "id": "NZBEq9ojy4EN"
      },
      "source": [
        "df_trip['age'] = ages - df_trip.birthyear\n",
        "df_trip['age'] = df_trip['age'].astype(int)"
      ],
      "execution_count": null,
      "outputs": []
    },
    {
      "cell_type": "code",
      "metadata": {
        "id": "JCDEWrDe12n8",
        "outputId": "9f60ebb3-28d8-4c6a-af4c-92b498ad024b",
        "colab": {
          "base_uri": "https://localhost:8080/"
        }
      },
      "source": [
        "df_trip.columns"
      ],
      "execution_count": null,
      "outputs": [
        {
          "output_type": "execute_result",
          "data": {
            "text/plain": [
              "Index(['trip_id', 'starttime', 'stoptime', 'bikeid', 'tripduration',\n",
              "       'from_station_name', 'to_station_name', 'from_station_id',\n",
              "       'to_station_id', 'usertype', 'gender', 'birthyear', 'age', 'Date',\n",
              "       'type', 'tripduration_minutes'],\n",
              "      dtype='object')"
            ]
          },
          "metadata": {
            "tags": []
          },
          "execution_count": 173
        }
      ]
    },
    {
      "cell_type": "code",
      "metadata": {
        "id": "t5NEftzP2j5y"
      },
      "source": [
        "list_str_datas =  list(df_trip.starttime)"
      ],
      "execution_count": null,
      "outputs": []
    },
    {
      "cell_type": "code",
      "metadata": {
        "id": "ovUDHyMl3EgN"
      },
      "source": [
        "df_trip_v2 = df_trip"
      ],
      "execution_count": null,
      "outputs": []
    },
    {
      "cell_type": "code",
      "metadata": {
        "id": "XAnL6Bah2vNI"
      },
      "source": [
        "str_data = [datetime.datetime.strftime(x, '%Y-%m-%d') for x in list_str_datas]"
      ],
      "execution_count": null,
      "outputs": []
    },
    {
      "cell_type": "code",
      "metadata": {
        "id": "9PQivg9s3ONP"
      },
      "source": [
        "df_trip_v2['Date'] = str_data"
      ],
      "execution_count": null,
      "outputs": []
    },
    {
      "cell_type": "code",
      "metadata": {
        "id": "EV2wJO_u3Svb"
      },
      "source": [
        "df_dt = list(df_weather['Date'])\n",
        "df_weather['Date'] = df_dt"
      ],
      "execution_count": null,
      "outputs": []
    },
    {
      "cell_type": "code",
      "metadata": {
        "id": "Tl8k-4ph3juE",
        "outputId": "6b696c4e-a35c-4e34-bb02-0c9e675433ba",
        "colab": {
          "base_uri": "https://localhost:8080/"
        }
      },
      "source": [
        "df_trip_v2['Date'].dtype"
      ],
      "execution_count": null,
      "outputs": [
        {
          "output_type": "execute_result",
          "data": {
            "text/plain": [
              "dtype('O')"
            ]
          },
          "metadata": {
            "tags": []
          },
          "execution_count": 179
        }
      ]
    },
    {
      "cell_type": "code",
      "metadata": {
        "id": "BRZae27G3nW0",
        "outputId": "a96ecfb5-a8e0-4d3b-ad64-adb4786ec61e",
        "colab": {
          "base_uri": "https://localhost:8080/"
        }
      },
      "source": [
        "df_weather['Date'].dtype"
      ],
      "execution_count": null,
      "outputs": [
        {
          "output_type": "execute_result",
          "data": {
            "text/plain": [
              "dtype('O')"
            ]
          },
          "metadata": {
            "tags": []
          },
          "execution_count": 180
        }
      ]
    },
    {
      "cell_type": "code",
      "metadata": {
        "id": "u_rJUr7-1xDs"
      },
      "source": [
        "df_trip_v2 = pd.merge(df_weather, df_trip, on= 'Date')"
      ],
      "execution_count": null,
      "outputs": []
    },
    {
      "cell_type": "code",
      "metadata": {
        "id": "yn3J97D2NvUz",
        "outputId": "4764d19a-ada3-4219-c818-cb771cb3eedf",
        "colab": {
          "base_uri": "https://localhost:8080/"
        }
      },
      "source": [
        "df_trip.Date.describe()"
      ],
      "execution_count": null,
      "outputs": [
        {
          "output_type": "execute_result",
          "data": {
            "text/plain": [
              "count         286857\n",
              "unique           689\n",
              "top       2014-10-19\n",
              "freq            1332\n",
              "Name: Date, dtype: object"
            ]
          },
          "metadata": {
            "tags": []
          },
          "execution_count": 182
        }
      ]
    },
    {
      "cell_type": "code",
      "metadata": {
        "id": "LRdAeLvUN3p_",
        "outputId": "00dce97c-4f08-4001-ddc0-6814900c6c28",
        "colab": {
          "base_uri": "https://localhost:8080/",
          "height": 35
        }
      },
      "source": [
        "df_trip.Date.min()"
      ],
      "execution_count": null,
      "outputs": [
        {
          "output_type": "execute_result",
          "data": {
            "application/vnd.google.colaboratory.intrinsic+json": {
              "type": "string"
            },
            "text/plain": [
              "'2014-10-13'"
            ]
          },
          "metadata": {
            "tags": []
          },
          "execution_count": 183
        }
      ]
    },
    {
      "cell_type": "code",
      "metadata": {
        "id": "eYdkJ1zQN7Dv",
        "outputId": "98a6d9db-b31a-4be7-9926-34528ca050ae",
        "colab": {
          "base_uri": "https://localhost:8080/",
          "height": 35
        }
      },
      "source": [
        "df_trip.Date.max()"
      ],
      "execution_count": null,
      "outputs": [
        {
          "output_type": "execute_result",
          "data": {
            "application/vnd.google.colaboratory.intrinsic+json": {
              "type": "string"
            },
            "text/plain": [
              "'2016-08-31'"
            ]
          },
          "metadata": {
            "tags": []
          },
          "execution_count": 184
        }
      ]
    },
    {
      "cell_type": "code",
      "metadata": {
        "id": "WkNo0awZO6kr",
        "outputId": "33eaf006-2ae5-452c-ec2e-7b8af7d96a8f",
        "colab": {
          "base_uri": "https://localhost:8080/"
        }
      },
      "source": [
        "df_trip['tripduration_minutes'].describe()"
      ],
      "execution_count": null,
      "outputs": [
        {
          "output_type": "execute_result",
          "data": {
            "text/plain": [
              "count    286857.000000\n",
              "mean         19.638175\n",
              "std          33.976089\n",
              "min           1.000000\n",
              "25%           6.000000\n",
              "50%          10.000000\n",
              "75%          19.000000\n",
              "max         480.000000\n",
              "Name: tripduration_minutes, dtype: float64"
            ]
          },
          "metadata": {
            "tags": []
          },
          "execution_count": 185
        }
      ]
    },
    {
      "cell_type": "markdown",
      "metadata": {
        "id": "l-fxWES2SIrp"
      },
      "source": [
        "# Data Visualization and Extract Information"
      ]
    },
    {
      "cell_type": "code",
      "metadata": {
        "id": "0Gl_AEoMnyE9"
      },
      "source": [
        "map_seatle = folium.Map(location=[ 47.608013,  -122.335167], zoom_start=12)\n",
        "lat = df_station['lat'].values\n",
        "long = df_station['long'].values\n",
        "for la, lo in zip(lat, long):\n",
        "    folium.Marker([la, lo]).add_to(map_seatle)"
      ],
      "execution_count": null,
      "outputs": []
    },
    {
      "cell_type": "code",
      "metadata": {
        "id": "UxKNEjh3oGnq",
        "outputId": "ad18d3df-e1ab-4d22-8188-0c8277fb645e",
        "colab": {
          "base_uri": "https://localhost:8080/",
          "height": 685
        }
      },
      "source": [
        "map_seatle"
      ],
      "execution_count": null,
      "outputs": [
        {
          "output_type": "execute_result",
          "data": {
            "text/html": [
              "<div style=\"width:100%;\"><div style=\"position:relative;width:100%;height:0;padding-bottom:60%;\"><span style=\"color:#565656\">Make this Notebook Trusted to load map: File -> Trust Notebook</span><iframe src=\"about:blank\" style=\"position:absolute;width:100%;height:100%;left:0;top:0;border:none !important;\" data-html=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 onload=\"this.contentDocument.open();this.contentDocument.write(atob(this.getAttribute('data-html')));this.contentDocument.close();\" allowfullscreen webkitallowfullscreen mozallowfullscreen></iframe></div></div>"
            ],
            "text/plain": [
              "<folium.folium.Map at 0x7fc5699dcbe0>"
            ]
          },
          "metadata": {
            "tags": []
          },
          "execution_count": 56
        }
      ]
    },
    {
      "cell_type": "code",
      "metadata": {
        "id": "raEaU9Ntu-nU"
      },
      "source": [
        "top_10 = pd.DataFrame(df_trip.from_station_id.value_counts().head(10))"
      ],
      "execution_count": null,
      "outputs": []
    },
    {
      "cell_type": "code",
      "metadata": {
        "id": "Ge2R5jGqw41F"
      },
      "source": [
        "top_10 = top_10.reset_index()"
      ],
      "execution_count": null,
      "outputs": []
    },
    {
      "cell_type": "code",
      "metadata": {
        "id": "2C7l1U0Cw8vb"
      },
      "source": [
        "top_10.columns = ['from_station_id','counts']"
      ],
      "execution_count": null,
      "outputs": []
    },
    {
      "cell_type": "code",
      "metadata": {
        "id": "BiNxdc-mxGY-"
      },
      "source": [
        "top_stations = pd.merge(top_10, df_station, on='from_station_id')"
      ],
      "execution_count": null,
      "outputs": []
    },
    {
      "cell_type": "code",
      "metadata": {
        "id": "PSOITVkOxtjS",
        "outputId": "d81ded11-3f66-4e50-e381-2771b33d6381",
        "colab": {
          "base_uri": "https://localhost:8080/",
          "height": 685
        }
      },
      "source": [
        "map_seatle_2 = folium.Map(location=[47.608013,  -122.335167], zoom_start=13)\n",
        "\n",
        "lat = top_stations['lat'] \n",
        "long = top_stations['long'] \n",
        "\n",
        "folium.Marker([47.614315, -122.354093],popup='Pier 69 / Alaskan Way & Clay St').add_to(map_seatle_2)\n",
        "folium.Marker([47.615330 ,-122.311752],popup='E Pine St & 16th Ave').add_to(map_seatle_2)\n",
        "folium.Marker([47.618418 ,-122.350964],popup='3rd Ave & Broad St ').add_to(map_seatle_2)\n",
        "folium.Marker([47.610185 ,-122.339641],popup='2nd Ave & Pine St').add_to(map_seatle_2)\n",
        "folium.Marker([47.613628 ,-122.337341],popup='Westlake Ave & 6th Ave').add_to(map_seatle_2)\n",
        "folium.Marker([47.622063 ,-122.321251],popup='E Harrison St & Broadway Ave E ').add_to(map_seatle_2)\n",
        "folium.Marker([47.615486 ,-122.318245],popup='Cal Anderson Park / 11th Ave & Pine St').add_to(map_seatle_2)\n",
        "folium.Marker([47.619859 ,-122.330304],popup='REI / Yale Ave N & John St ').add_to(map_seatle_2)\n",
        "folium.Marker([47.615829 ,-122.348564],popup='2nd Ave & Vine St').add_to(map_seatle_2)\n",
        "folium.Marker([47.620712 ,-122.312805],popup='15th Ave E & E Thomas St').add_to(map_seatle_2)\n",
        "\n",
        "map_seatle_2"
      ],
      "execution_count": null,
      "outputs": [
        {
          "output_type": "execute_result",
          "data": {
            "text/html": [
              "<div style=\"width:100%;\"><div style=\"position:relative;width:100%;height:0;padding-bottom:60%;\"><span style=\"color:#565656\">Make this Notebook Trusted to load map: File -> Trust Notebook</span><iframe src=\"about:blank\" style=\"position:absolute;width:100%;height:100%;left:0;top:0;border:none !important;\" data-html=PCFET0NUWVBFIGh0bWw+CjxoZWFkPiAgICAKICAgIDxtZXRhIGh0dHAtZXF1aXY9ImNvbnRlbnQtdHlwZSIgY29udGVudD0idGV4dC9odG1sOyBjaGFyc2V0PVVURi04IiAvPgogICAgPHNjcmlwdD5MX1BSRUZFUl9DQU5WQVM9ZmFsc2U7IExfTk9fVE9VQ0g9ZmFsc2U7IExfRElTQUJMRV8zRD1mYWxzZTs8L3NjcmlwdD4KICAgIDxzY3JpcHQgc3JjPSJodHRwczovL2Nkbi5qc2RlbGl2ci5uZXQvbnBtL2xlYWZsZXRAMS40LjAvZGlzdC9sZWFmbGV0LmpzIj48L3NjcmlwdD4KICAgIDxzY3JpcHQgc3JjPSJodHRwczovL2NvZGUuanF1ZXJ5LmNvbS9qcXVlcnktMS4xMi40Lm1pbi5qcyI+PC9zY3JpcHQ+CiAgICA8c2NyaXB0IHNyYz0iaHR0cHM6Ly9tYXhjZG4uYm9vdHN0cmFwY2RuLmNvbS9ib290c3RyYXAvMy4yLjAvanMvYm9vdHN0cmFwLm1pbi5qcyI+PC9zY3JpcHQ+CiAgICA8c2NyaXB0IHNyYz0iaHR0cHM6Ly9jZG5qcy5jbG91ZGZsYXJlLmNvbS9hamF4L2xpYnMvTGVhZmxldC5hd2Vzb21lLW1hcmtlcnMvMi4wLjIvbGVhZmxldC5hd2Vzb21lLW1hcmtlcnMuanMiPjwvc2NyaXB0PgogICAgPGxpbmsgcmVsPSJzdHlsZXNoZWV0IiBocmVmPSJodHRwczovL2Nkbi5qc2RlbGl2ci5uZXQvbnBtL2xlYWZsZXRAMS40LjAvZGlzdC9sZWFmbGV0LmNzcyIvPgogICAgPGxpbmsgcmVsPSJzdHlsZXNoZWV0IiBocmVmPSJodHRwczovL21heGNkbi5ib290c3RyYXBjZG4uY29tL2Jvb3RzdHJhcC8zLjIuMC9jc3MvYm9vdHN0cmFwLm1pbi5jc3MiLz4KICAgIDxsaW5rIHJlbD0ic3R5bGVzaGVldCIgaHJlZj0iaHR0cHM6Ly9tYXhjZG4uYm9vdHN0cmFwY2RuLmNvbS9ib290c3RyYXAvMy4yLjAvY3NzL2Jvb3RzdHJhcC10aGVtZS5taW4uY3NzIi8+CiAgICA8bGluayByZWw9InN0eWxlc2hlZXQiIGhyZWY9Imh0dHBzOi8vbWF4Y2RuLmJvb3RzdHJhcGNkbi5jb20vZm9udC1hd2Vzb21lLzQuNi4zL2Nzcy9mb250LWF3ZXNvbWUubWluLmNzcyIvPgogICAgPGxpbmsgcmVsPSJzdHlsZXNoZWV0IiBocmVmPSJodHRwczovL2NkbmpzLmNsb3VkZmxhcmUuY29tL2FqYXgvbGlicy9MZWFmbGV0LmF3ZXNvbWUtbWFya2Vycy8yLjAuMi9sZWFmbGV0LmF3ZXNvbWUtbWFya2Vycy5jc3MiLz4KICAgIDxsaW5rIHJlbD0ic3R5bGVzaGVldCIgaHJlZj0iaHR0cHM6Ly9yYXdjZG4uZ2l0aGFjay5jb20vcHl0aG9uLXZpc3VhbGl6YXRpb24vZm9saXVtL21hc3Rlci9mb2xpdW0vdGVtcGxhdGVzL2xlYWZsZXQuYXdlc29tZS5yb3RhdGUuY3NzIi8+CiAgICA8c3R5bGU+aHRtbCwgYm9keSB7d2lkdGg6IDEwMCU7aGVpZ2h0OiAxMDAlO21hcmdpbjogMDtwYWRkaW5nOiAwO308L3N0eWxlPgogICAgPHN0eWxlPiNtYXAge3Bvc2l0aW9uOmFic29sdXRlO3RvcDowO2JvdHRvbTowO3JpZ2h0OjA7bGVmdDowO308L3N0eWxlPgogICAgCiAgICA8bWV0YSBuYW1lPSJ2aWV3cG9ydCIgY29udGVudD0id2lkdGg9ZGV2aWNlLXdpZHRoLAogICAgICAgIGluaXRpYWwtc2NhbGU9MS4wLCBtYXhpbXVtLXNjYWxlPTEuMCwgdXNlci1zY2FsYWJsZT1ubyIgLz4KICAgIDxzdHlsZT4jbWFwX2UzMzczMjFlMGY1MjQ1YWFiYmEwM2FhNGFlNWU2ZDhhIHsKICAgICAgICBwb3NpdGlvbjogcmVsYXRpdmU7CiAgICAgICAgd2lkdGg6IDEwMC4wJTsKICAgICAgICBoZWlnaHQ6IDEwMC4wJTsKICAgICAgICBsZWZ0OiAwLjAlOwogICAgICAgIHRvcDogMC4wJTsKICAgICAgICB9CiAgICA8L3N0eWxlPgo8L2hlYWQ+Cjxib2R5PiAgICAKICAgIAogICAgPGRpdiBjbGFzcz0iZm9saXVtLW1hcCIgaWQ9Im1hcF9lMzM3MzIxZTBmNTI0NWFhYmJhMDNhYTRhZTVlNmQ4YSIgPjwvZGl2Pgo8L2JvZHk+CjxzY3JpcHQ+ICAgIAogICAgCiAgICAKICAgICAgICB2YXIgYm91bmRzID0gbnVsbDsKICAgIAoKICAgIHZhciBtYXBfZTMzNzMyMWUwZjUyNDVhYWJiYTAzYWE0YWU1ZTZkOGEgPSBMLm1hcCgKICAgICAgICAnbWFwX2UzMzczMjFlMGY1MjQ1YWFiYmEwM2FhNGFlNWU2ZDhhJywgewogICAgICAgIGNlbnRlcjogWzQ3LjYwODAxMywgLTEyMi4zMzUxNjddLAogICAgICAgIHpvb206IDEzLAogICAgICAgIG1heEJvdW5kczogYm91bmRzLAogICAgICAgIGxheWVyczogW10sCiAgICAgICAgd29ybGRDb3B5SnVtcDogZmFsc2UsCiAgICAgICAgY3JzOiBMLkNSUy5FUFNHMzg1NywKICAgICAgICB6b29tQ29udHJvbDogdHJ1ZSwKICAgICAgICB9KTsKCgogICAgCiAgICB2YXIgdGlsZV9sYXllcl81NDg2NDI1ODEzOTQ0MzQ0OWYzNWRkYmNiNjJiOTMzZCA9IEwudGlsZUxheWVyKAogICAgICAgICdodHRwczovL3tzfS50aWxlLm9wZW5zdHJlZXRtYXAub3JnL3t6fS97eH0ve3l9LnBuZycsCiAgICAgICAgewogICAgICAgICJhdHRyaWJ1dGlvbiI6IG51bGwsCiAgICAgICAgImRldGVjdFJldGluYSI6IGZhbHNlLAogICAgICAgICJtYXhOYXRpdmVab29tIjogMTgsCiAgICAgICAgIm1heFpvb20iOiAxOCwKICAgICAgICAibWluWm9vbSI6IDAsCiAgICAgICAgIm5vV3JhcCI6IGZhbHNlLAogICAgICAgICJvcGFjaXR5IjogMSwKICAgICAgICAic3ViZG9tYWlucyI6ICJhYmMiLAogICAgICAgICJ0bXMiOiBmYWxzZQp9KS5hZGRUbyhtYXBfZTMzNzMyMWUwZjUyNDVhYWJiYTAzYWE0YWU1ZTZkOGEpOwogICAgCiAgICAgICAgdmFyIG1hcmtlcl9hZmRkNjEzZDk1MTg0ZWI1YWRlODU5ZGRhYzViNTUyZiA9IEwubWFya2VyKAogICAgICAgICAgICBbNDcuNjE0MzE1LCAtMTIyLjM1NDA5M10sCiAgICAgICAgICAgIHsKICAgICAgICAgICAgICAgIGljb246IG5ldyBMLkljb24uRGVmYXVsdCgpLAogICAgICAgICAgICAgICAgfQogICAgICAgICAgICApLmFkZFRvKG1hcF9lMzM3MzIxZTBmNTI0NWFhYmJhMDNhYTRhZTVlNmQ4YSk7CiAgICAgICAgCiAgICAKICAgICAgICAgICAgdmFyIHBvcHVwXzBkYmZkNmE0NjY4ZDQwMzc4Nzg4ZDZmYTBmMTEwZTBiID0gTC5wb3B1cCh7bWF4V2lkdGg6ICcxMDAlJwogICAgICAgICAgICAKICAgICAgICAgICAgfSk7CgogICAgICAgICAgICAKICAgICAgICAgICAgICAgIHZhciBodG1sXzdiZDQyZmVmMDJlZjQyZTE4NGQ0ZDdlZDE5OTlmNDQ0ID0gJChgPGRpdiBpZD0iaHRtbF83YmQ0MmZlZjAyZWY0MmUxODRkNGQ3ZWQxOTk5ZjQ0NCIgc3R5bGU9IndpZHRoOiAxMDAuMCU7IGhlaWdodDogMTAwLjAlOyI+UGllciA2OSAvIEFsYXNrYW4gV2F5ICYgQ2xheSBTdDwvZGl2PmApWzBdOwogICAgICAgICAgICAgICAgcG9wdXBfMGRiZmQ2YTQ2NjhkNDAzNzg3ODhkNmZhMGYxMTBlMGIuc2V0Q29udGVudChodG1sXzdiZDQyZmVmMDJlZjQyZTE4NGQ0ZDdlZDE5OTlmNDQ0KTsKICAgICAgICAgICAgCgogICAgICAgICAgICBtYXJrZXJfYWZkZDYxM2Q5NTE4NGViNWFkZTg1OWRkYWM1YjU1MmYuYmluZFBvcHVwKHBvcHVwXzBkYmZkNmE0NjY4ZDQwMzc4Nzg4ZDZmYTBmMTEwZTBiKQogICAgICAgICAgICA7CgogICAgICAgICAgICAKICAgICAgICAKICAgIAogICAgICAgIHZhciBtYXJrZXJfNWM2ODhmMDA1ZWViNDYyZWI5ZTAyZjIyYTg0NzllNzUgPSBMLm1hcmtlcigKICAgICAgICAgICAgWzQ3LjYxNTMzLCAtMTIyLjMxMTc1Ml0sCiAgICAgICAgICAgIHsKICAgICAgICAgICAgICAgIGljb246IG5ldyBMLkljb24uRGVmYXVsdCgpLAogICAgICAgICAgICAgICAgfQogICAgICAgICAgICApLmFkZFRvKG1hcF9lMzM3MzIxZTBmNTI0NWFhYmJhMDNhYTRhZTVlNmQ4YSk7CiAgICAgICAgCiAgICAKICAgICAgICAgICAgdmFyIHBvcHVwXzliNTY1NjdhZDkyNjRkYzA5ZTMyZmQzNTIzMzY3MDg3ID0gTC5wb3B1cCh7bWF4V2lkdGg6ICcxMDAlJwogICAgICAgICAgICAKICAgICAgICAgICAgfSk7CgogICAgICAgICAgICAKICAgICAgICAgICAgICAgIHZhciBodG1sXzUzNzQ4NTAxZWE4NDRkNTM5M2YwMzhlZTUzY2QxZGYwID0gJChgPGRpdiBpZD0iaHRtbF81Mzc0ODUwMWVhODQ0ZDUzOTNmMDM4ZWU1M2NkMWRmMCIgc3R5bGU9IndpZHRoOiAxMDAuMCU7IGhlaWdodDogMTAwLjAlOyI+RSBQaW5lIFN0ICYgMTZ0aCBBdmU8L2Rpdj5gKVswXTsKICAgICAgICAgICAgICAgIHBvcHVwXzliNTY1NjdhZDkyNjRkYzA5ZTMyZmQzNTIzMzY3MDg3LnNldENvbnRlbnQoaHRtbF81Mzc0ODUwMWVhODQ0ZDUzOTNmMDM4ZWU1M2NkMWRmMCk7CiAgICAgICAgICAgIAoKICAgICAgICAgICAgbWFya2VyXzVjNjg4ZjAwNWVlYjQ2MmViOWUwMmYyMmE4NDc5ZTc1LmJpbmRQb3B1cChwb3B1cF85YjU2NTY3YWQ5MjY0ZGMwOWUzMmZkMzUyMzM2NzA4NykKICAgICAgICAgICAgOwoKICAgICAgICAgICAgCiAgICAgICAgCiAgICAKICAgICAgICB2YXIgbWFya2VyXzkzMjI1NGU4YTkyNTQyNWE4MzQ5NWUxZWYwZGI2OTNmID0gTC5tYXJrZXIoCiAgICAgICAgICAgIFs0Ny42MTg0MTgsIC0xMjIuMzUwOTY0XSwKICAgICAgICAgICAgewogICAgICAgICAgICAgICAgaWNvbjogbmV3IEwuSWNvbi5EZWZhdWx0KCksCiAgICAgICAgICAgICAgICB9CiAgICAgICAgICAgICkuYWRkVG8obWFwX2UzMzczMjFlMGY1MjQ1YWFiYmEwM2FhNGFlNWU2ZDhhKTsKICAgICAgICAKICAgIAogICAgICAgICAgICB2YXIgcG9wdXBfYjA4YTAxMGZlYmNjNDU3MTkxN2VhYmY0ZTE1NzVkMDUgPSBMLnBvcHVwKHttYXhXaWR0aDogJzEwMCUnCiAgICAgICAgICAgIAogICAgICAgICAgICB9KTsKCiAgICAgICAgICAgIAogICAgICAgICAgICAgICAgdmFyIGh0bWxfMzA3NDZlM2Q2MDAwNDg4Y2E1ZmI2MDYwOTY0MDlkZjIgPSAkKGA8ZGl2IGlkPSJodG1sXzMwNzQ2ZTNkNjAwMDQ4OGNhNWZiNjA2MDk2NDA5ZGYyIiBzdHlsZT0id2lkdGg6IDEwMC4wJTsgaGVpZ2h0OiAxMDAuMCU7Ij4zcmQgQXZlICYgQnJvYWQgU3QgPC9kaXY+YClbMF07CiAgICAgICAgICAgICAgICBwb3B1cF9iMDhhMDEwZmViY2M0NTcxOTE3ZWFiZjRlMTU3NWQwNS5zZXRDb250ZW50KGh0bWxfMzA3NDZlM2Q2MDAwNDg4Y2E1ZmI2MDYwOTY0MDlkZjIpOwogICAgICAgICAgICAKCiAgICAgICAgICAgIG1hcmtlcl85MzIyNTRlOGE5MjU0MjVhODM0OTVlMWVmMGRiNjkzZi5iaW5kUG9wdXAocG9wdXBfYjA4YTAxMGZlYmNjNDU3MTkxN2VhYmY0ZTE1NzVkMDUpCiAgICAgICAgICAgIDsKCiAgICAgICAgICAgIAogICAgICAgIAogICAgCiAgICAgICAgdmFyIG1hcmtlcl83NTc0YjQ2OTBmOTk0YmEzOThlNjFkZDE4MzI4ZDViOCA9IEwubWFya2VyKAogICAgICAgICAgICBbNDcuNjEwMTg1LCAtMTIyLjMzOTY0MV0sCiAgICAgICAgICAgIHsKICAgICAgICAgICAgICAgIGljb246IG5ldyBMLkljb24uRGVmYXVsdCgpLAogICAgICAgICAgICAgICAgfQogICAgICAgICAgICApLmFkZFRvKG1hcF9lMzM3MzIxZTBmNTI0NWFhYmJhMDNhYTRhZTVlNmQ4YSk7CiAgICAgICAgCiAgICAKICAgICAgICAgICAgdmFyIHBvcHVwXzMzMjhjN2ZjODRiYjQzNWJhMTgyYjQwYjE2ZWY4NTJkID0gTC5wb3B1cCh7bWF4V2lkdGg6ICcxMDAlJwogICAgICAgICAgICAKICAgICAgICAgICAgfSk7CgogICAgICAgICAgICAKICAgICAgICAgICAgICAgIHZhciBodG1sX2M4MmVjNDZiYzQ1ZDRmNzhhNWFmZmNiZjM2Njc2MjYzID0gJChgPGRpdiBpZD0iaHRtbF9jODJlYzQ2YmM0NWQ0Zjc4YTVhZmZjYmYzNjY3NjI2MyIgc3R5bGU9IndpZHRoOiAxMDAuMCU7IGhlaWdodDogMTAwLjAlOyI+Mm5kIEF2ZSAmIFBpbmUgU3Q8L2Rpdj5gKVswXTsKICAgICAgICAgICAgICAgIHBvcHVwXzMzMjhjN2ZjODRiYjQzNWJhMTgyYjQwYjE2ZWY4NTJkLnNldENvbnRlbnQoaHRtbF9jODJlYzQ2YmM0NWQ0Zjc4YTVhZmZjYmYzNjY3NjI2Myk7CiAgICAgICAgICAgIAoKICAgICAgICAgICAgbWFya2VyXzc1NzRiNDY5MGY5OTRiYTM5OGU2MWRkMTgzMjhkNWI4LmJpbmRQb3B1cChwb3B1cF8zMzI4YzdmYzg0YmI0MzViYTE4MmI0MGIxNmVmODUyZCkKICAgICAgICAgICAgOwoKICAgICAgICAgICAgCiAgICAgICAgCiAgICAKICAgICAgICB2YXIgbWFya2VyXzQ1MDQxNTBjZTYyOTRjMzBiNDg5MGU1YzM1NzdkODRhID0gTC5tYXJrZXIoCiAgICAgICAgICAgIFs0Ny42MTM2MjgsIC0xMjIuMzM3MzQxXSwKICAgICAgICAgICAgewogICAgICAgICAgICAgICAgaWNvbjogbmV3IEwuSWNvbi5EZWZhdWx0KCksCiAgICAgICAgICAgICAgICB9CiAgICAgICAgICAgICkuYWRkVG8obWFwX2UzMzczMjFlMGY1MjQ1YWFiYmEwM2FhNGFlNWU2ZDhhKTsKICAgICAgICAKICAgIAogICAgICAgICAgICB2YXIgcG9wdXBfNjI1MThlYjM4ZTZkNGYyOTkzZmFmN2U5MTMyNjNhN2MgPSBMLnBvcHVwKHttYXhXaWR0aDogJzEwMCUnCiAgICAgICAgICAgIAogICAgICAgICAgICB9KTsKCiAgICAgICAgICAgIAogICAgICAgICAgICAgICAgdmFyIGh0bWxfOGUzOTE4NTkzNjhjNDQ3NjgzMDNmNjFmZDg5OWUzZDIgPSAkKGA8ZGl2IGlkPSJodG1sXzhlMzkxODU5MzY4YzQ0NzY4MzAzZjYxZmQ4OTllM2QyIiBzdHlsZT0id2lkdGg6IDEwMC4wJTsgaGVpZ2h0OiAxMDAuMCU7Ij5XZXN0bGFrZSBBdmUgJiA2dGggQXZlPC9kaXY+YClbMF07CiAgICAgICAgICAgICAgICBwb3B1cF82MjUxOGViMzhlNmQ0ZjI5OTNmYWY3ZTkxMzI2M2E3Yy5zZXRDb250ZW50KGh0bWxfOGUzOTE4NTkzNjhjNDQ3NjgzMDNmNjFmZDg5OWUzZDIpOwogICAgICAgICAgICAKCiAgICAgICAgICAgIG1hcmtlcl80NTA0MTUwY2U2Mjk0YzMwYjQ4OTBlNWMzNTc3ZDg0YS5iaW5kUG9wdXAocG9wdXBfNjI1MThlYjM4ZTZkNGYyOTkzZmFmN2U5MTMyNjNhN2MpCiAgICAgICAgICAgIDsKCiAgICAgICAgICAgIAogICAgICAgIAogICAgCiAgICAgICAgdmFyIG1hcmtlcl8yODE2NzRhZWI4ZTA0MzVlOTU3MzY1NTYyOWI3OTMyMyA9IEwubWFya2VyKAogICAgICAgICAgICBbNDcuNjIyMDYzLCAtMTIyLjMyMTI1MV0sCiAgICAgICAgICAgIHsKICAgICAgICAgICAgICAgIGljb246IG5ldyBMLkljb24uRGVmYXVsdCgpLAogICAgICAgICAgICAgICAgfQogICAgICAgICAgICApLmFkZFRvKG1hcF9lMzM3MzIxZTBmNTI0NWFhYmJhMDNhYTRhZTVlNmQ4YSk7CiAgICAgICAgCiAgICAKICAgICAgICAgICAgdmFyIHBvcHVwXzllNTc2NGFjOGY1NzQwZTBiNmI4NTM2MTM0NTAwOWM4ID0gTC5wb3B1cCh7bWF4V2lkdGg6ICcxMDAlJwogICAgICAgICAgICAKICAgICAgICAgICAgfSk7CgogICAgICAgICAgICAKICAgICAgICAgICAgICAgIHZhciBodG1sXzkwYTJmYmEwMGVhZDRlZTNiNDkzNjUxZjBkZTdiZWJmID0gJChgPGRpdiBpZD0iaHRtbF85MGEyZmJhMDBlYWQ0ZWUzYjQ5MzY1MWYwZGU3YmViZiIgc3R5bGU9IndpZHRoOiAxMDAuMCU7IGhlaWdodDogMTAwLjAlOyI+RSBIYXJyaXNvbiBTdCAmIEJyb2Fkd2F5IEF2ZSBFIDwvZGl2PmApWzBdOwogICAgICAgICAgICAgICAgcG9wdXBfOWU1NzY0YWM4ZjU3NDBlMGI2Yjg1MzYxMzQ1MDA5Yzguc2V0Q29udGVudChodG1sXzkwYTJmYmEwMGVhZDRlZTNiNDkzNjUxZjBkZTdiZWJmKTsKICAgICAgICAgICAgCgogICAgICAgICAgICBtYXJrZXJfMjgxNjc0YWViOGUwNDM1ZTk1NzM2NTU2MjliNzkzMjMuYmluZFBvcHVwKHBvcHVwXzllNTc2NGFjOGY1NzQwZTBiNmI4NTM2MTM0NTAwOWM4KQogICAgICAgICAgICA7CgogICAgICAgICAgICAKICAgICAgICAKICAgIAogICAgICAgIHZhciBtYXJrZXJfMTEyZjUwYjkxMzYzNDA1Y2ExMGMxODllZGM2OTk3YTEgPSBMLm1hcmtlcigKICAgICAgICAgICAgWzQ3LjYxNTQ4NiwgLTEyMi4zMTgyNDVdLAogICAgICAgICAgICB7CiAgICAgICAgICAgICAgICBpY29uOiBuZXcgTC5JY29uLkRlZmF1bHQoKSwKICAgICAgICAgICAgICAgIH0KICAgICAgICAgICAgKS5hZGRUbyhtYXBfZTMzNzMyMWUwZjUyNDVhYWJiYTAzYWE0YWU1ZTZkOGEpOwogICAgICAgIAogICAgCiAgICAgICAgICAgIHZhciBwb3B1cF85NWI3NjBlYWZlODA0NjNlYWY0YmI5MDdhYmIyOGIwYyA9IEwucG9wdXAoe21heFdpZHRoOiAnMTAwJScKICAgICAgICAgICAgCiAgICAgICAgICAgIH0pOwoKICAgICAgICAgICAgCiAgICAgICAgICAgICAgICB2YXIgaHRtbF9jMmM2NzBlM2NjNWY0ZDQzYjAyNzIwOTkzZjJhMGZjMSA9ICQoYDxkaXYgaWQ9Imh0bWxfYzJjNjcwZTNjYzVmNGQ0M2IwMjcyMDk5M2YyYTBmYzEiIHN0eWxlPSJ3aWR0aDogMTAwLjAlOyBoZWlnaHQ6IDEwMC4wJTsiPkNhbCBBbmRlcnNvbiBQYXJrIC8gMTF0aCBBdmUgJiBQaW5lIFN0PC9kaXY+YClbMF07CiAgICAgICAgICAgICAgICBwb3B1cF85NWI3NjBlYWZlODA0NjNlYWY0YmI5MDdhYmIyOGIwYy5zZXRDb250ZW50KGh0bWxfYzJjNjcwZTNjYzVmNGQ0M2IwMjcyMDk5M2YyYTBmYzEpOwogICAgICAgICAgICAKCiAgICAgICAgICAgIG1hcmtlcl8xMTJmNTBiOTEzNjM0MDVjYTEwYzE4OWVkYzY5OTdhMS5iaW5kUG9wdXAocG9wdXBfOTViNzYwZWFmZTgwNDYzZWFmNGJiOTA3YWJiMjhiMGMpCiAgICAgICAgICAgIDsKCiAgICAgICAgICAgIAogICAgICAgIAogICAgCiAgICAgICAgdmFyIG1hcmtlcl9iNmZjNjY5MGQ4MGE0OWNiYTRmMjFhMDA2MTcyYTQxOSA9IEwubWFya2VyKAogICAgICAgICAgICBbNDcuNjE5ODU5LCAtMTIyLjMzMDMwNF0sCiAgICAgICAgICAgIHsKICAgICAgICAgICAgICAgIGljb246IG5ldyBMLkljb24uRGVmYXVsdCgpLAogICAgICAgICAgICAgICAgfQogICAgICAgICAgICApLmFkZFRvKG1hcF9lMzM3MzIxZTBmNTI0NWFhYmJhMDNhYTRhZTVlNmQ4YSk7CiAgICAgICAgCiAgICAKICAgICAgICAgICAgdmFyIHBvcHVwX2Q0ZDhjZTgzM2QwYTQ0ODFiNzU2Y2ZkNDEzZTgzZjAyID0gTC5wb3B1cCh7bWF4V2lkdGg6ICcxMDAlJwogICAgICAgICAgICAKICAgICAgICAgICAgfSk7CgogICAgICAgICAgICAKICAgICAgICAgICAgICAgIHZhciBodG1sX2ExNzhiNGJmODExMzQzOWNiOTA1ZGYxNTZiNzJkNWY4ID0gJChgPGRpdiBpZD0iaHRtbF9hMTc4YjRiZjgxMTM0MzljYjkwNWRmMTU2YjcyZDVmOCIgc3R5bGU9IndpZHRoOiAxMDAuMCU7IGhlaWdodDogMTAwLjAlOyI+UkVJIC8gWWFsZSBBdmUgTiAmIEpvaG4gU3QgPC9kaXY+YClbMF07CiAgICAgICAgICAgICAgICBwb3B1cF9kNGQ4Y2U4MzNkMGE0NDgxYjc1NmNmZDQxM2U4M2YwMi5zZXRDb250ZW50KGh0bWxfYTE3OGI0YmY4MTEzNDM5Y2I5MDVkZjE1NmI3MmQ1ZjgpOwogICAgICAgICAgICAKCiAgICAgICAgICAgIG1hcmtlcl9iNmZjNjY5MGQ4MGE0OWNiYTRmMjFhMDA2MTcyYTQxOS5iaW5kUG9wdXAocG9wdXBfZDRkOGNlODMzZDBhNDQ4MWI3NTZjZmQ0MTNlODNmMDIpCiAgICAgICAgICAgIDsKCiAgICAgICAgICAgIAogICAgICAgIAogICAgCiAgICAgICAgdmFyIG1hcmtlcl80MzEyYmQzYmI4N2I0ZjYzOGQ4ZWVkNmIxNmMxNTcwMiA9IEwubWFya2VyKAogICAgICAgICAgICBbNDcuNjE1ODI5LCAtMTIyLjM0ODU2NF0sCiAgICAgICAgICAgIHsKICAgICAgICAgICAgICAgIGljb246IG5ldyBMLkljb24uRGVmYXVsdCgpLAogICAgICAgICAgICAgICAgfQogICAgICAgICAgICApLmFkZFRvKG1hcF9lMzM3MzIxZTBmNTI0NWFhYmJhMDNhYTRhZTVlNmQ4YSk7CiAgICAgICAgCiAgICAKICAgICAgICAgICAgdmFyIHBvcHVwXzAzOWMwZGJjMjM5NjRkMDJhZDA5NTA3ZTgzNzEzOTBlID0gTC5wb3B1cCh7bWF4V2lkdGg6ICcxMDAlJwogICAgICAgICAgICAKICAgICAgICAgICAgfSk7CgogICAgICAgICAgICAKICAgICAgICAgICAgICAgIHZhciBodG1sXzY3Nzc2ZDc5YzA3YjQwNTBiMjE0MzJhZWE0OGY2ZmRmID0gJChgPGRpdiBpZD0iaHRtbF82Nzc3NmQ3OWMwN2I0MDUwYjIxNDMyYWVhNDhmNmZkZiIgc3R5bGU9IndpZHRoOiAxMDAuMCU7IGhlaWdodDogMTAwLjAlOyI+Mm5kIEF2ZSAmIFZpbmUgU3Q8L2Rpdj5gKVswXTsKICAgICAgICAgICAgICAgIHBvcHVwXzAzOWMwZGJjMjM5NjRkMDJhZDA5NTA3ZTgzNzEzOTBlLnNldENvbnRlbnQoaHRtbF82Nzc3NmQ3OWMwN2I0MDUwYjIxNDMyYWVhNDhmNmZkZik7CiAgICAgICAgICAgIAoKICAgICAgICAgICAgbWFya2VyXzQzMTJiZDNiYjg3YjRmNjM4ZDhlZWQ2YjE2YzE1NzAyLmJpbmRQb3B1cChwb3B1cF8wMzljMGRiYzIzOTY0ZDAyYWQwOTUwN2U4MzcxMzkwZSkKICAgICAgICAgICAgOwoKICAgICAgICAgICAgCiAgICAgICAgCiAgICAKICAgICAgICB2YXIgbWFya2VyX2ZjMzQ4NTdmNzc2ZTRjZWRhNjMzOWQzNWM5YmU5NzE5ID0gTC5tYXJrZXIoCiAgICAgICAgICAgIFs0Ny42MjA3MTIsIC0xMjIuMzEyODA1XSwKICAgICAgICAgICAgewogICAgICAgICAgICAgICAgaWNvbjogbmV3IEwuSWNvbi5EZWZhdWx0KCksCiAgICAgICAgICAgICAgICB9CiAgICAgICAgICAgICkuYWRkVG8obWFwX2UzMzczMjFlMGY1MjQ1YWFiYmEwM2FhNGFlNWU2ZDhhKTsKICAgICAgICAKICAgIAogICAgICAgICAgICB2YXIgcG9wdXBfYWExNTZmNDVhNTcwNDg4Mzg3OWNhMzE1NTA4MGY1MjcgPSBMLnBvcHVwKHttYXhXaWR0aDogJzEwMCUnCiAgICAgICAgICAgIAogICAgICAgICAgICB9KTsKCiAgICAgICAgICAgIAogICAgICAgICAgICAgICAgdmFyIGh0bWxfNjk2YmIxMDg2MDZjNGQ0NmJlZTZhMzczNmFjMDk4NWYgPSAkKGA8ZGl2IGlkPSJodG1sXzY5NmJiMTA4NjA2YzRkNDZiZWU2YTM3MzZhYzA5ODVmIiBzdHlsZT0id2lkdGg6IDEwMC4wJTsgaGVpZ2h0OiAxMDAuMCU7Ij4xNXRoIEF2ZSBFICYgRSBUaG9tYXMgU3Q8L2Rpdj5gKVswXTsKICAgICAgICAgICAgICAgIHBvcHVwX2FhMTU2ZjQ1YTU3MDQ4ODM4NzljYTMxNTUwODBmNTI3LnNldENvbnRlbnQoaHRtbF82OTZiYjEwODYwNmM0ZDQ2YmVlNmEzNzM2YWMwOTg1Zik7CiAgICAgICAgICAgIAoKICAgICAgICAgICAgbWFya2VyX2ZjMzQ4NTdmNzc2ZTRjZWRhNjMzOWQzNWM5YmU5NzE5LmJpbmRQb3B1cChwb3B1cF9hYTE1NmY0NWE1NzA0ODgzODc5Y2EzMTU1MDgwZjUyNykKICAgICAgICAgICAgOwoKICAgICAgICAgICAgCiAgICAgICAgCjwvc2NyaXB0Pg== onload=\"this.contentDocument.open();this.contentDocument.write(atob(this.getAttribute('data-html')));this.contentDocument.close();\" allowfullscreen webkitallowfullscreen mozallowfullscreen></iframe></div></div>"
            ],
            "text/plain": [
              "<folium.folium.Map at 0x7fc56513ae10>"
            ]
          },
          "metadata": {
            "tags": []
          },
          "execution_count": 61
        }
      ]
    },
    {
      "cell_type": "code",
      "metadata": {
        "id": "hIXdDMKlSKRH",
        "outputId": "bd9d7105-2186-4a68-ad42-60aa26187123",
        "colab": {
          "base_uri": "https://localhost:8080/",
          "height": 365
        }
      },
      "source": [
        "sns.displot(np.log10(df_trip['tripduration']))\n",
        "plt.show()"
      ],
      "execution_count": null,
      "outputs": [
        {
          "output_type": "display_data",
          "data": {
            "image/png": "[encoded data removed]",
            "text/plain": [
              "<Figure size 360x360 with 1 Axes>"
            ]
          },
          "metadata": {
            "tags": []
          }
        }
      ]
    },
    {
      "cell_type": "code",
      "metadata": {
        "id": "zx0ubESSONsn",
        "outputId": "f44b75fe-5771-4b5d-ae08-60674895a3cf",
        "colab": {
          "base_uri": "https://localhost:8080/",
          "height": 869
        }
      },
      "source": [
        "plt.figure(figsize=(20, 15))\n",
        "sns.boxplot(df_trip['tripduration_minutes'], data = df_trip)\n",
        "plt.show()"
      ],
      "execution_count": null,
      "outputs": [
        {
          "output_type": "display_data",
          "data": {
            "image/png": "[encoded data removed]",
            "text/plain": [
              "<Figure size 1440x1080 with 1 Axes>"
            ]
          },
          "metadata": {
            "tags": []
          }
        }
      ]
    },
    {
      "cell_type": "code",
      "metadata": {
        "id": "ywEY_lAlSOZZ",
        "outputId": "778ae600-7a67-4929-897e-67243fc9a21b",
        "colab": {
          "base_uri": "https://localhost:8080/",
          "height": 285
        }
      },
      "source": [
        "sns.countplot(df_trip['usertype'])\n",
        "plt.show()"
      ],
      "execution_count": null,
      "outputs": [
        {
          "output_type": "display_data",
          "data": {
            "image/png": "[encoded data removed]",
            "text/plain": [
              "<Figure size 432x288 with 1 Axes>"
            ]
          },
          "metadata": {
            "tags": []
          }
        }
      ]
    },
    {
      "cell_type": "code",
      "metadata": {
        "id": "npDVlm4wzlAZ",
        "outputId": "d427538c-763b-4187-9670-b7a04cc16803",
        "colab": {
          "base_uri": "https://localhost:8080/",
          "height": 822
        }
      },
      "source": [
        "fig, ax = plt.subplots(figsize=(20,15));\n",
        "sns.histplot(df_trip['age'], bins = 20, element = 'step', ax = ax)\n",
        "plt.show()"
      ],
      "execution_count": null,
      "outputs": [
        {
          "output_type": "display_data",
          "data": {
            "image/png": "[encoded data removed]",
            "text/plain": [
              "<Figure size 1440x1080 with 1 Axes>"
            ]
          },
          "metadata": {
            "tags": []
          }
        }
      ]
    },
    {
      "cell_type": "code",
      "metadata": {
        "id": "qJdGKdJ8Scp1",
        "outputId": "3b654f75-5a14-400a-8f99-9bcec5e2e61b",
        "colab": {
          "base_uri": "https://localhost:8080/",
          "height": 284
        }
      },
      "source": [
        "axis_y = top_10_from['Count']\n",
        "axis_x = top_10_from['Id']\n",
        "\n",
        "fig, ax = plt.subplots()\n",
        "\n",
        "ax.barh(axis_x, axis_y, 0.9)\n",
        "ax.invert_yaxis() \n",
        "ax.set_title('Comparação de Valores por Estação de Destino')\n",
        "\n",
        "plt.show()"
      ],
      "execution_count": null,
      "outputs": [
        {
          "output_type": "display_data",
          "data": {
            "image/png": "[encoded data removed]",
            "text/plain": [
              "<Figure size 432x288 with 1 Axes>"
            ]
          },
          "metadata": {
            "tags": []
          }
        }
      ]
    },
    {
      "cell_type": "code",
      "metadata": {
        "id": "Zl_FYMLYWmfg",
        "outputId": "c44a60bc-5ccc-43f6-a7d7-d4eab28c1105",
        "colab": {
          "base_uri": "https://localhost:8080/",
          "height": 284
        }
      },
      "source": [
        "axis_y = top_10_to['Count']\n",
        "axis_x = top_10_to['Id']\n",
        "\n",
        "fig, ax = plt.subplots()\n",
        "\n",
        "ax.barh(axis_x, axis_y, 0.9)\n",
        "ax.invert_yaxis() \n",
        "ax.set_title('Comparação de Valores por Estação de Saída')\n",
        "\n",
        "plt.show()"
      ],
      "execution_count": null,
      "outputs": [
        {
          "output_type": "display_data",
          "data": {
            "image/png": "[encoded data removed]",
            "text/plain": [
              "<Figure size 432x288 with 1 Axes>"
            ]
          },
          "metadata": {
            "tags": []
          }
        }
      ]
    },
    {
      "cell_type": "code",
      "metadata": {
        "id": "tTR76iiWXOlF"
      },
      "source": [
        "top_10_total_current_dockcount = df_station[['station_id','current_dockcount']].sort_values(by = ['current_dockcount'], ascending=False).head(10)"
      ],
      "execution_count": null,
      "outputs": []
    },
    {
      "cell_type": "code",
      "metadata": {
        "id": "xX7mBqmwZzrL"
      },
      "source": [
        "top_10_total_current_dockcount['is_top'] = top_10_total_current_dockcount['station_id'].isin(top_10_from['Id'])"
      ],
      "execution_count": null,
      "outputs": []
    },
    {
      "cell_type": "code",
      "metadata": {
        "id": "T_qoSWiCaopW",
        "outputId": "e7257508-4a74-4a58-8922-6621dd87ae97",
        "colab": {
          "base_uri": "https://localhost:8080/",
          "height": 343
        }
      },
      "source": [
        "top_10_total_current_dockcount"
      ],
      "execution_count": null,
      "outputs": [
        {
          "output_type": "execute_result",
          "data": {
            "text/html": [
              "<div>\n",
              "<style scoped>\n",
              "    .dataframe tbody tr th:only-of-type {\n",
              "        vertical-align: middle;\n",
              "    }\n",
              "\n",
              "    .dataframe tbody tr th {\n",
              "        vertical-align: top;\n",
              "    }\n",
              "\n",
              "    .dataframe thead th {\n",
              "        text-align: right;\n",
              "    }\n",
              "</style>\n",
              "<table border=\"1\" class=\"dataframe\">\n",
              "  <thead>\n",
              "    <tr style=\"text-align: right;\">\n",
              "      <th></th>\n",
              "      <th>station_id</th>\n",
              "      <th>current_dockcount</th>\n",
              "      <th>is_top</th>\n",
              "    </tr>\n",
              "  </thead>\n",
              "  <tbody>\n",
              "    <tr>\n",
              "      <th>17</th>\n",
              "      <td>CH-08</td>\n",
              "      <td>26</td>\n",
              "      <td>True</td>\n",
              "    </tr>\n",
              "    <tr>\n",
              "      <th>22</th>\n",
              "      <td>DPD-03</td>\n",
              "      <td>24</td>\n",
              "      <td>False</td>\n",
              "    </tr>\n",
              "    <tr>\n",
              "      <th>52</th>\n",
              "      <td>WF-01</td>\n",
              "      <td>24</td>\n",
              "      <td>True</td>\n",
              "    </tr>\n",
              "    <tr>\n",
              "      <th>12</th>\n",
              "      <td>CH-02</td>\n",
              "      <td>20</td>\n",
              "      <td>True</td>\n",
              "    </tr>\n",
              "    <tr>\n",
              "      <th>41</th>\n",
              "      <td>SLU-21</td>\n",
              "      <td>20</td>\n",
              "      <td>False</td>\n",
              "    </tr>\n",
              "    <tr>\n",
              "      <th>31</th>\n",
              "      <td>SLU-01</td>\n",
              "      <td>20</td>\n",
              "      <td>True</td>\n",
              "    </tr>\n",
              "    <tr>\n",
              "      <th>35</th>\n",
              "      <td>SLU-15</td>\n",
              "      <td>20</td>\n",
              "      <td>True</td>\n",
              "    </tr>\n",
              "    <tr>\n",
              "      <th>36</th>\n",
              "      <td>SLU-16</td>\n",
              "      <td>20</td>\n",
              "      <td>False</td>\n",
              "    </tr>\n",
              "    <tr>\n",
              "      <th>40</th>\n",
              "      <td>SLU-20</td>\n",
              "      <td>20</td>\n",
              "      <td>False</td>\n",
              "    </tr>\n",
              "    <tr>\n",
              "      <th>27</th>\n",
              "      <td>FH-04</td>\n",
              "      <td>20</td>\n",
              "      <td>False</td>\n",
              "    </tr>\n",
              "  </tbody>\n",
              "</table>\n",
              "</div>"
            ],
            "text/plain": [
              "   station_id  current_dockcount  is_top\n",
              "17      CH-08                 26    True\n",
              "22     DPD-03                 24   False\n",
              "52      WF-01                 24    True\n",
              "12      CH-02                 20    True\n",
              "41     SLU-21                 20   False\n",
              "31     SLU-01                 20    True\n",
              "35     SLU-15                 20    True\n",
              "36     SLU-16                 20   False\n",
              "40     SLU-20                 20   False\n",
              "27      FH-04                 20   False"
            ]
          },
          "metadata": {
            "tags": []
          },
          "execution_count": 136
        }
      ]
    },
    {
      "cell_type": "markdown",
      "metadata": {
        "id": "t7yqLH61iVj4"
      },
      "source": [
        "Notamos que apenas 5 das estações com mais docas são as mais utilizadas, esse é um ponto a se verificar se não é valido efetuar um remanejamento."
      ]
    },
    {
      "cell_type": "code",
      "metadata": {
        "id": "0Y6lmJTsusAo",
        "outputId": "a41e9b8e-d160-45a4-f3e4-8c6b3f610e84",
        "colab": {
          "base_uri": "https://localhost:8080/",
          "height": 443
        }
      },
      "source": [
        "plt.figure(figsize=(20, 15))\n",
        "s1 = plt.subplot(2, 2, 1)\n",
        "\n",
        "s1 = sns.countplot(x = 'gender', data = df_trip,\n",
        "                    palette = 'crest', hue = 'gender', dodge = False\n",
        "                   )\n",
        "s1 = plt.title('QTDADE. DE USUARIOS POR SEXO',\n",
        "               pad = 20,\n",
        "         fontsize = 13, color ='dimgrey', fontweight = 'bold')\n",
        "\n",
        "s1 = sns.despine(bottom = True, left=True)\n",
        "s1 = plt.xlabel('GÊNERO', color = 'grey', labelpad = 20, fontsize = 8)\n",
        "s1 = plt.ylabel('QUANTIDADE DE USUARIOS', color = 'grey', labelpad = 20, fontsize = 8)\n",
        "\n",
        "\n",
        "s2 = plt.subplot(2, 2, 2)\n",
        "\n",
        "sns.histplot(df_trip[df_trip['gender'] == 'Female']['age'], bins = 20, label = 'F', element = 'step',\n",
        "             color = '#da8b40')\n",
        "sns.histplot(df_trip[df_trip['gender'] == 'Male']['age'], bins = 20, label = 'M', element = 'step',\n",
        "             color = '#257ca0')\n",
        "sns.histplot(df_trip[df_trip['gender'] == 'Other']['age'], bins = 20, label = 'O', element = 'step',\n",
        "             color = '#FF6666')\n",
        "\n",
        "\n",
        "s2 = plt.title('HISTOGRAMA DE USUARIOS POR SEXO x IDADE',\n",
        "               pad = 20,\n",
        "         fontsize = 13, color ='dimgrey', fontweight = 'bold')\n",
        "\n",
        "s2 = sns.despine(bottom = True, left=True)\n",
        "s2 = plt.xlabel('IDADE', color = 'grey', labelpad = 20, fontsize = 8)\n",
        "s2 = plt.ylabel('QUANTIDADE DE USUARIOS', color = 'grey', labelpad = 20, fontsize = 8)\n",
        "s2 = plt.legend()\n"
      ],
      "execution_count": null,
      "outputs": [
        {
          "output_type": "display_data",
          "data": {
            "image/png": "[encoded data removed]",
            "text/plain": [
              "<Figure size 1440x1080 with 2 Axes>"
            ]
          },
          "metadata": {
            "tags": []
          }
        }
      ]
    },
    {
      "cell_type": "markdown",
      "metadata": {
        "id": "tq0QKQDq-VRL"
      },
      "source": [
        "Podemos identificar com as informações acima que a maioria dos nossos clientes estão entre 30 e 40 anos e que a quantidade de pessoas de sexo masculino são as que mais usam as bicicletas (talvez por questões de vestimentas) mesmo considerando que temos alguns missing values feature \"gender\""
      ]
    },
    {
      "cell_type": "code",
      "metadata": {
        "id": "H4iRtI-wITYR",
        "outputId": "219014c9-2e45-4bfc-dfe9-04989f6d575c",
        "colab": {
          "base_uri": "https://localhost:8080/"
        }
      },
      "source": [
        "print('Media de Duração de Viagens - Mulheres: {} '.format(round(df_trip.query('gender == \"Female\"')['tripduration_minutes'].mean()), 2))\n",
        "print('Media de Duração de Viagens - Homens: {} '.format(round(df_trip.query('gender == \"Male\"')['tripduration_minutes'].mean()), 2))\n",
        "print('Media de Duração de Viagens - Outro: {} '.format(round(df_trip.query('gender == \"Other\"')['tripduration_minutes'].mean()), 2))"
      ],
      "execution_count": null,
      "outputs": [
        {
          "output_type": "stream",
          "text": [
            "Media de Duração de Viagens - Mulheres: 12 \n",
            "Media de Duração de Viagens - Homens: 9 \n",
            "Media de Duração de Viagens - Outro: 10 \n"
          ],
          "name": "stdout"
        }
      ]
    },
    {
      "cell_type": "markdown",
      "metadata": {
        "id": "m_-XKwEuRujz"
      },
      "source": [
        "Podemos identificar que mulheres usam menos mas as suas viagens tem durações em média maiores que dos homens"
      ]
    },
    {
      "cell_type": "code",
      "metadata": {
        "id": "ialACahcUW84",
        "outputId": "6ea05dcc-aa3b-45eb-fddd-e35764ded03b",
        "colab": {
          "base_uri": "https://localhost:8080/"
        }
      },
      "source": [
        "df_trip.groupby('from_station_id')['tripduration_minutes'].sum()"
      ],
      "execution_count": null,
      "outputs": [
        {
          "output_type": "execute_result",
          "data": {
            "text/plain": [
              "from_station_id\n",
              "8D OPS 02         5.0\n",
              "BT-01        254433.0\n",
              "BT-03        138256.0\n",
              "BT-04         70500.0\n",
              "BT-05        125383.0\n",
              "               ...   \n",
              "UW-10         46832.0\n",
              "UW-11         22157.0\n",
              "WF-01        453955.0\n",
              "WF-03          8278.0\n",
              "WF-04        236076.0\n",
              "Name: tripduration_minutes, Length: 61, dtype: float64"
            ]
          },
          "metadata": {
            "tags": []
          },
          "execution_count": 217
        }
      ]
    },
    {
      "cell_type": "code",
      "metadata": {
        "id": "Q31Dbj549H_k",
        "outputId": "3caa778c-8a47-4162-a86b-d213f63793c3",
        "colab": {
          "base_uri": "https://localhost:8080/",
          "height": 571
        }
      },
      "source": [
        "plt.figure(figsize=(15, 10))\n",
        "df_trip_date['trip_id'].plot(style=':');"
      ],
      "execution_count": null,
      "outputs": [
        {
          "output_type": "display_data",
          "data": {
            "image/png": "[encoded data removed]",
            "text/plain": [
              "<Figure size 1080x720 with 1 Axes>"
            ]
          },
          "metadata": {
            "tags": [],
            "needs_background": "light"
          }
        }
      ]
    },
    {
      "cell_type": "markdown",
      "metadata": {
        "id": "59Y7-2IePckG"
      },
      "source": [
        "Por fim podemos identificar também que com o passar do tempo a utilização das bicicletas como meio de transporte aumentaram"
      ]
    },
    {
      "cell_type": "code",
      "metadata": {
        "id": "kHrIhq3JHaA7"
      },
      "source": [
        ""
      ],
      "execution_count": null,
      "outputs": []
    }
  ]
}